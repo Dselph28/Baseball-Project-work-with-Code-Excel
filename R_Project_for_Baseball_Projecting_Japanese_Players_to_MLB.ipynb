{
  "nbformat": 4,
  "nbformat_minor": 0,
  "metadata": {
    "colab": {
      "provenance": [],
      "authorship_tag": "ABX9TyOBlsSOqiW+pXZOKa7R0GDm",
      "include_colab_link": true
    },
    "kernelspec": {
      "name": "ir",
      "display_name": "R"
    },
    "language_info": {
      "name": "R"
    }
  },
  "cells": [
    {
      "cell_type": "markdown",
      "metadata": {
        "id": "view-in-github",
        "colab_type": "text"
      },
      "source": [
        "<a href=\"https://colab.research.google.com/github/Dselph28/Evaluating-First-Round-Pitchers-vs.-Position-Players-with-Prospects/blob/main/R_Project_for_Baseball_Projecting_Japanese_Players_to_MLB.ipynb\" target=\"_parent\"><img src=\"https://colab.research.google.com/assets/colab-badge.svg\" alt=\"Open In Colab\"/></a>"
      ]
    },
    {
      "cell_type": "markdown",
      "source": [
        "# Introduction to the Project: NPB to MLB - Donovan Selph\n",
        "The goal of this project is to analyze and project the performance of current Nippon Professional Baseball (NPB) players to determine their potential contributions to Major League Baseball (MLB). With a rich history of talented players transitioning from Japan to MLB, such as Shohei Ohtani, Ichiro Suzuki, and Yu Darvish, the ability to predict how NPB players’ statistical outputs translate to MLB environments is a valuable tool for scouts and analysts.\n",
        "\n",
        "This coding project will involve:\n",
        "\n",
        "1. Data Collection: Gathering player performance metrics from NPB, such as batting averages (BA), earned run averages (ERA), and other key statistics.\n",
        "2. Data Normalization: Adjusting for league difficulty and ballpark factors to standardize NPB stats against MLB standards.\n",
        "3. Model Development: Utilizing historical player transition data to build predictive models for projecting future MLB performance.\n",
        "4. Visualization: Creating graphs and charts to clearly illustrate how NPB players might perform in the MLB based on their current metrics.\n",
        "5. Insights: Generating actionable insights for baseball operations teams to evaluate the potential value of signing or drafting Japanese players.\n"
      ],
      "metadata": {
        "id": "GDy7tw2lLQr7"
      }
    },
    {
      "cell_type": "code",
      "execution_count": null,
      "metadata": {
        "colab": {
          "base_uri": "https://localhost:8080/"
        },
        "id": "NNAkdNI-Gq9Y",
        "outputId": "83fed813-d158-4e11-ec6b-6a630261b26e"
      },
      "outputs": [
        {
          "output_type": "stream",
          "name": "stderr",
          "text": [
            "── \u001b[1mAttaching core tidyverse packages\u001b[22m ──────────────────────── tidyverse 2.0.0 ──\n",
            "\u001b[32m✔\u001b[39m \u001b[34mdplyr    \u001b[39m 1.1.4     \u001b[32m✔\u001b[39m \u001b[34mreadr    \u001b[39m 2.1.5\n",
            "\u001b[32m✔\u001b[39m \u001b[34mforcats  \u001b[39m 1.0.0     \u001b[32m✔\u001b[39m \u001b[34mstringr  \u001b[39m 1.5.1\n",
            "\u001b[32m✔\u001b[39m \u001b[34mggplot2  \u001b[39m 3.5.1     \u001b[32m✔\u001b[39m \u001b[34mtibble   \u001b[39m 3.2.1\n",
            "\u001b[32m✔\u001b[39m \u001b[34mlubridate\u001b[39m 1.9.4     \u001b[32m✔\u001b[39m \u001b[34mtidyr    \u001b[39m 1.3.1\n",
            "\u001b[32m✔\u001b[39m \u001b[34mpurrr    \u001b[39m 1.0.2     \n",
            "── \u001b[1mConflicts\u001b[22m ────────────────────────────────────────── tidyverse_conflicts() ──\n",
            "\u001b[31m✖\u001b[39m \u001b[34mdplyr\u001b[39m::\u001b[32mfilter()\u001b[39m masks \u001b[34mstats\u001b[39m::filter()\n",
            "\u001b[31m✖\u001b[39m \u001b[34mdplyr\u001b[39m::\u001b[32mlag()\u001b[39m    masks \u001b[34mstats\u001b[39m::lag()\n",
            "\u001b[36mℹ\u001b[39m Use the conflicted package (\u001b[3m\u001b[34m<http://conflicted.r-lib.org/>\u001b[39m\u001b[23m) to force all conflicts to become errors\n"
          ]
        }
      ],
      "source": [
        "library(tidyverse)"
      ]
    },
    {
      "cell_type": "code",
      "source": [
        "if (!requireNamespace('pacman', quietly = TRUE)){\n",
        "  install.packages('pacman')\n",
        "}\n",
        "pacman::p_load_current_gh(\"billpetti/baseballr\")"
      ],
      "metadata": {
        "colab": {
          "base_uri": "https://localhost:8080/"
        },
        "id": "cE0v-_VNJMCt",
        "outputId": "3cb32007-295e-41a8-816a-0b6b971cf93c"
      },
      "execution_count": null,
      "outputs": [
        {
          "output_type": "stream",
          "name": "stderr",
          "text": [
            "Installing package into ‘/usr/local/lib/R/site-library’\n",
            "(as ‘lib’ is unspecified)\n",
            "\n"
          ]
        },
        {
          "output_type": "stream",
          "name": "stdout",
          "text": [
            "curl         (6.0.1 -> 6.1.0   ) [CRAN]\n",
            "RcppParallel (NA    -> 5.1.9   ) [CRAN]\n",
            "parallelly   (NA    -> 1.41.0  ) [CRAN]\n",
            "listenv      (NA    -> 0.9.1   ) [CRAN]\n",
            "globals      (NA    -> 0.16.3  ) [CRAN]\n",
            "plogr        (NA    -> 0.2.0   ) [CRAN]\n",
            "plyr         (NA    -> 1.8.9   ) [CRAN]\n",
            "BH           (NA    -> 1.87.0-1) [CRAN]\n",
            "stringfish   (NA    -> 0.16.0  ) [CRAN]\n",
            "RApiSeria... (NA    -> 0.1.4   ) [CRAN]\n",
            "future       (NA    -> 1.34.0  ) [CRAN]\n",
            "snakecase    (NA    -> 0.11.1  ) [CRAN]\n",
            "zoo          (NA    -> 1.8-12  ) [CRAN]\n",
            "RSQLite      (NA    -> 2.3.9   ) [CRAN]\n",
            "reshape2     (NA    -> 1.4.4   ) [CRAN]\n",
            "qs           (NA    -> 0.27.2  ) [CRAN]\n",
            "progressr    (NA    -> 0.15.1  ) [CRAN]\n",
            "ggrepel      (NA    -> 0.9.6   ) [CRAN]\n",
            "furrr        (NA    -> 0.3.1   ) [CRAN]\n",
            "janitor      (NA    -> 2.2.1   ) [CRAN]\n",
            "\u001b[36m──\u001b[39m \u001b[36mR CMD build\u001b[39m \u001b[36m─────────────────────────────────────────────────────────────────\u001b[39m\n",
            "* checking for file ‘/tmp/RtmpPeq6m7/remotesf7218dc13/BillPetti-baseballr-ec1af2f/DESCRIPTION’ ... OK\n",
            "* preparing ‘baseballr’:\n",
            "* checking DESCRIPTION meta-information ... OK\n",
            "* checking for LF line-endings in source and make files and shell scripts\n",
            "* checking for empty or unneeded directories\n",
            "* building ‘baseballr_1.6.0.9001.tar.gz’\n",
            "\n"
          ]
        }
      ]
    },
    {
      "cell_type": "code",
      "source": [
        "install.packages(\"rvest\")\n",
        "install.packages(\"dplyr\")\n",
        "install.packages(\"readr\")"
      ],
      "metadata": {
        "colab": {
          "base_uri": "https://localhost:8080/"
        },
        "id": "J_T3Qu-XLD8x",
        "outputId": "c1257159-93a6-4701-be59-d35118958fd6"
      },
      "execution_count": null,
      "outputs": [
        {
          "output_type": "stream",
          "name": "stderr",
          "text": [
            "Installing package into ‘/usr/local/lib/R/site-library’\n",
            "(as ‘lib’ is unspecified)\n",
            "\n",
            "Installing package into ‘/usr/local/lib/R/site-library’\n",
            "(as ‘lib’ is unspecified)\n",
            "\n",
            "Installing package into ‘/usr/local/lib/R/site-library’\n",
            "(as ‘lib’ is unspecified)\n",
            "\n"
          ]
        }
      ]
    },
    {
      "cell_type": "code",
      "source": [
        "if (!require(\"caret\")) install.packages(\"caret\", repos = \"http://cran.us.r-project.org\")\n",
        "if (!require(\"ggplot2\")) install.packages(\"ggplot2\", repos = \"http://cran.us.r-project.org\")\n",
        "if (!require(\"httr\")) install.packages(\"httr\", repos = \"http://cran.us.r-project.org\")"
      ],
      "metadata": {
        "colab": {
          "base_uri": "https://localhost:8080/"
        },
        "id": "ji3dpxaBlBN-",
        "outputId": "f501eba3-83b3-4d31-d2c3-feabbed2e714"
      },
      "execution_count": null,
      "outputs": [
        {
          "output_type": "stream",
          "name": "stderr",
          "text": [
            "Loading required package: caret\n",
            "\n",
            "Warning message in library(package, lib.loc = lib.loc, character.only = TRUE, logical.return = TRUE, :\n",
            "“there is no package called ‘caret’”\n",
            "Installing package into ‘/usr/local/lib/R/site-library’\n",
            "(as ‘lib’ is unspecified)\n",
            "\n",
            "also installing the dependencies ‘shape’, ‘future.apply’, ‘numDeriv’, ‘SQUAREM’, ‘diagram’, ‘lava’, ‘prodlim’, ‘proxy’, ‘iterators’, ‘clock’, ‘gower’, ‘hardhat’, ‘ipred’, ‘timeDate’, ‘e1071’, ‘foreach’, ‘ModelMetrics’, ‘pROC’, ‘recipes’\n",
            "\n",
            "\n",
            "Loading required package: httr\n",
            "\n"
          ]
        }
      ]
    },
    {
      "cell_type": "code",
      "source": [
        "library(tidyverse)\n",
        "library(rvest)\n",
        "library(httr)\n",
        "\n",
        "# Example URL (you need to find actual data sources)\n",
        "npb_data_url <- \"https://www.baseball-reference.com/register/leader.cgi?type=bat&id=5e1f8b77\"\n",
        "mlb_data_url <- \"https://www.mlb.com/stats/batting-average\"\n",
        "\n",
        "# Function to scrape data\n",
        "get_player_data <- function(url) {\n",
        "  webpage <- read_html(url)\n",
        "\n",
        "# Adjust the selectors to your data source\n",
        "player_stats <- webpage %>%\n",
        "    html_nodes('table') %>%\n",
        "    html_table()\n",
        "\n",
        "  player_stats_df <- player_stats[[1]] # Assuming the first table is our desired one\n",
        "  return(player_stats_df)\n",
        "}\n",
        "\n",
        "npb_stats <- get_player_data(npb_data_url)\n",
        "mlb_stats <- get_player_data(mlb_data_url)"
      ],
      "metadata": {
        "id": "B0eWp1y7Ypqm",
        "colab": {
          "base_uri": "https://localhost:8080/"
        },
        "outputId": "a1191bf7-5eaa-4f92-fef9-4cb00faa0045"
      },
      "execution_count": null,
      "outputs": [
        {
          "output_type": "stream",
          "name": "stderr",
          "text": [
            "\n",
            "Attaching package: ‘rvest’\n",
            "\n",
            "\n",
            "The following object is masked from ‘package:readr’:\n",
            "\n",
            "    guess_encoding\n",
            "\n",
            "\n"
          ]
        }
      ]
    },
    {
      "cell_type": "markdown",
      "source": [
        "We are going to take a few of the top hitters from the NPB Central League last season and project their \"Win Shares\" Total, which is a helpful projection to see what they are worth in the MLB based on a method developed by Jim Albright in a BaseballGuru.com article."
      ],
      "metadata": {
        "id": "MHR8TP0QuxpR"
      }
    },
    {
      "cell_type": "code",
      "source": [
        "# Provided dataset\n",
        "npb_stats <- tribble(\n",
        "  ~Rk, ~Name, ~Age, ~Tm, ~Lev, ~Aff, ~G, ~PA, ~AB, ~R, ~H, ~`2B`, ~`3B`, ~HR, ~RBI, ~SB, ~CS, ~BB, ~SO, ~BA, ~OBP, ~SLG, ~OPS, ~TB, ~GDP, ~HBP, ~SH, ~SF, ~IBB,\n",
        "  1, \"Tyler Austin\", 32, \"YKO\", \"Fgn\", NA, 106, 445, 396, 66, 125, 34, 2, 25, 69, 0, 1, 45, 88, 0.316, 0.382, 0.601, 0.983, 238, 12, 0, 0, 4, 2,\n",
        "  2, \"Domingo Santana\", 31, \"YKU\", \"Fgn\", NA, 122, 484, 419, 57, 132, 29, 0, 17, 70, 2, 1, 57, 101, 0.315, 0.399, 0.506, 0.905, 212, 8, 4, 0, 4, 1,\n",
        "  3, \"Hiroki Fukunaga\", 27, \"CNI\", \"Fgn\", NA, 111, 402, 363, 40, 111, 22, 2, 6, 32, 9, 3, 27, 82, 0.306, 0.362, 0.427, 0.789, 155, 4, 6, 4, 2, 1,\n",
        "  4, \"Shingo Usami\", 31, \"CNI\", \"Fgn\", NA, 61, 164, 152, 7, 46, 8, 0, 3, 17, 0, 0, 9, 38, 0.303, 0.337, 0.415, 0.752, 63, 5, 0, 1, 2, 0,\n",
        "  5, \"Elier Hernandez\", 29, \"YOM\", \"Fgn\", NA, 56, 240, 221, 34, 65, 11, 0, 8, 30, 0, 1, 15, 58, 0.294, 0.346, 0.453, 0.798, 100, 8, 3, 0, 1, 1\n",
        ")"
      ],
      "metadata": {
        "id": "w22tT6wVuvzi"
      },
      "execution_count": null,
      "outputs": []
    },
    {
      "cell_type": "code",
      "source": [
        "# Function to calculate Win Shares\n",
        "calculate_win_shares <- function(df) {\n",
        "  df <- df %>%\n",
        "    mutate(\n",
        "      Hits = H,\n",
        "      Singles = H - `2B` - `3B` - HR,\n",
        "      Walks = BB,\n",
        "      Outs = AB - H,\n",
        "      Win_Shares = round(0.5 * (Singles / 6 + `2B` / 4 + `3B` / 3 + HR / 2 + Walks / 9 - Outs / 36), 1)\n",
        "    )\n",
        "    return(df)\n",
        "}\n",
        "\n",
        "# Calculate Win Shares\n",
        "npb_with_win_shares <- calculate_win_shares(npb_stats)\n",
        "\n",
        "# View the data with calculated Win Shares\n",
        "npb_with_win_shares %>%\n",
        "  select(Name, G, PA, AB, R, H, `2B`, `3B`, HR, RBI, SB, CS, BB, SO, BA, OBP, SLG, OPS, TB, Win_Shares) %>%\n",
        "  head()"
      ],
      "metadata": {
        "colab": {
          "base_uri": "https://localhost:8080/",
          "height": 362
        },
        "id": "32VivOs7x-Me",
        "outputId": "9ddd46c8-8418-4e1c-c64d-641677f5fafe"
      },
      "execution_count": null,
      "outputs": [
        {
          "output_type": "display_data",
          "data": {
            "text/html": [
              "<table class=\"dataframe\">\n",
              "<caption>A tibble: 5 × 20</caption>\n",
              "<thead>\n",
              "\t<tr><th scope=col>Name</th><th scope=col>G</th><th scope=col>PA</th><th scope=col>AB</th><th scope=col>R</th><th scope=col>H</th><th scope=col>2B</th><th scope=col>3B</th><th scope=col>HR</th><th scope=col>RBI</th><th scope=col>SB</th><th scope=col>CS</th><th scope=col>BB</th><th scope=col>SO</th><th scope=col>BA</th><th scope=col>OBP</th><th scope=col>SLG</th><th scope=col>OPS</th><th scope=col>TB</th><th scope=col>Win_Shares</th></tr>\n",
              "\t<tr><th scope=col>&lt;chr&gt;</th><th scope=col>&lt;dbl&gt;</th><th scope=col>&lt;dbl&gt;</th><th scope=col>&lt;dbl&gt;</th><th scope=col>&lt;dbl&gt;</th><th scope=col>&lt;dbl&gt;</th><th scope=col>&lt;dbl&gt;</th><th scope=col>&lt;dbl&gt;</th><th scope=col>&lt;dbl&gt;</th><th scope=col>&lt;dbl&gt;</th><th scope=col>&lt;dbl&gt;</th><th scope=col>&lt;dbl&gt;</th><th scope=col>&lt;dbl&gt;</th><th scope=col>&lt;dbl&gt;</th><th scope=col>&lt;dbl&gt;</th><th scope=col>&lt;dbl&gt;</th><th scope=col>&lt;dbl&gt;</th><th scope=col>&lt;dbl&gt;</th><th scope=col>&lt;dbl&gt;</th><th scope=col>&lt;dbl&gt;</th></tr>\n",
              "</thead>\n",
              "<tbody>\n",
              "\t<tr><td>Tyler Austin   </td><td>106</td><td>445</td><td>396</td><td>66</td><td>125</td><td>34</td><td>2</td><td>25</td><td>69</td><td>0</td><td>1</td><td>45</td><td> 88</td><td>0.316</td><td>0.382</td><td>0.601</td><td>0.983</td><td>238</td><td>14.9</td></tr>\n",
              "\t<tr><td>Domingo Santana</td><td>122</td><td>484</td><td>419</td><td>57</td><td>132</td><td>29</td><td>0</td><td>17</td><td>70</td><td>2</td><td>1</td><td>57</td><td>101</td><td>0.315</td><td>0.399</td><td>0.506</td><td>0.905</td><td>212</td><td>14.2</td></tr>\n",
              "\t<tr><td>Hiroki Fukunaga</td><td>111</td><td>402</td><td>363</td><td>40</td><td>111</td><td>22</td><td>2</td><td> 6</td><td>32</td><td>9</td><td>3</td><td>27</td><td> 82</td><td>0.306</td><td>0.362</td><td>0.427</td><td>0.789</td><td>155</td><td> 9.3</td></tr>\n",
              "\t<tr><td>Shingo Usami   </td><td> 61</td><td>164</td><td>152</td><td> 7</td><td> 46</td><td> 8</td><td>0</td><td> 3</td><td>17</td><td>0</td><td>0</td><td> 9</td><td> 38</td><td>0.303</td><td>0.337</td><td>0.415</td><td>0.752</td><td> 63</td><td> 3.7</td></tr>\n",
              "\t<tr><td>Elier Hernandez</td><td> 56</td><td>240</td><td>221</td><td>34</td><td> 65</td><td>11</td><td>0</td><td> 8</td><td>30</td><td>0</td><td>1</td><td>15</td><td> 58</td><td>0.294</td><td>0.346</td><td>0.453</td><td>0.798</td><td>100</td><td> 5.9</td></tr>\n",
              "</tbody>\n",
              "</table>\n"
            ],
            "text/markdown": "\nA tibble: 5 × 20\n\n| Name &lt;chr&gt; | G &lt;dbl&gt; | PA &lt;dbl&gt; | AB &lt;dbl&gt; | R &lt;dbl&gt; | H &lt;dbl&gt; | 2B &lt;dbl&gt; | 3B &lt;dbl&gt; | HR &lt;dbl&gt; | RBI &lt;dbl&gt; | SB &lt;dbl&gt; | CS &lt;dbl&gt; | BB &lt;dbl&gt; | SO &lt;dbl&gt; | BA &lt;dbl&gt; | OBP &lt;dbl&gt; | SLG &lt;dbl&gt; | OPS &lt;dbl&gt; | TB &lt;dbl&gt; | Win_Shares &lt;dbl&gt; |\n|---|---|---|---|---|---|---|---|---|---|---|---|---|---|---|---|---|---|---|---|\n| Tyler Austin    | 106 | 445 | 396 | 66 | 125 | 34 | 2 | 25 | 69 | 0 | 1 | 45 |  88 | 0.316 | 0.382 | 0.601 | 0.983 | 238 | 14.9 |\n| Domingo Santana | 122 | 484 | 419 | 57 | 132 | 29 | 0 | 17 | 70 | 2 | 1 | 57 | 101 | 0.315 | 0.399 | 0.506 | 0.905 | 212 | 14.2 |\n| Hiroki Fukunaga | 111 | 402 | 363 | 40 | 111 | 22 | 2 |  6 | 32 | 9 | 3 | 27 |  82 | 0.306 | 0.362 | 0.427 | 0.789 | 155 |  9.3 |\n| Shingo Usami    |  61 | 164 | 152 |  7 |  46 |  8 | 0 |  3 | 17 | 0 | 0 |  9 |  38 | 0.303 | 0.337 | 0.415 | 0.752 |  63 |  3.7 |\n| Elier Hernandez |  56 | 240 | 221 | 34 |  65 | 11 | 0 |  8 | 30 | 0 | 1 | 15 |  58 | 0.294 | 0.346 | 0.453 | 0.798 | 100 |  5.9 |\n\n",
            "text/latex": "A tibble: 5 × 20\n\\begin{tabular}{llllllllllllllllllll}\n Name & G & PA & AB & R & H & 2B & 3B & HR & RBI & SB & CS & BB & SO & BA & OBP & SLG & OPS & TB & Win\\_Shares\\\\\n <chr> & <dbl> & <dbl> & <dbl> & <dbl> & <dbl> & <dbl> & <dbl> & <dbl> & <dbl> & <dbl> & <dbl> & <dbl> & <dbl> & <dbl> & <dbl> & <dbl> & <dbl> & <dbl> & <dbl>\\\\\n\\hline\n\t Tyler Austin    & 106 & 445 & 396 & 66 & 125 & 34 & 2 & 25 & 69 & 0 & 1 & 45 &  88 & 0.316 & 0.382 & 0.601 & 0.983 & 238 & 14.9\\\\\n\t Domingo Santana & 122 & 484 & 419 & 57 & 132 & 29 & 0 & 17 & 70 & 2 & 1 & 57 & 101 & 0.315 & 0.399 & 0.506 & 0.905 & 212 & 14.2\\\\\n\t Hiroki Fukunaga & 111 & 402 & 363 & 40 & 111 & 22 & 2 &  6 & 32 & 9 & 3 & 27 &  82 & 0.306 & 0.362 & 0.427 & 0.789 & 155 &  9.3\\\\\n\t Shingo Usami    &  61 & 164 & 152 &  7 &  46 &  8 & 0 &  3 & 17 & 0 & 0 &  9 &  38 & 0.303 & 0.337 & 0.415 & 0.752 &  63 &  3.7\\\\\n\t Elier Hernandez &  56 & 240 & 221 & 34 &  65 & 11 & 0 &  8 & 30 & 0 & 1 & 15 &  58 & 0.294 & 0.346 & 0.453 & 0.798 & 100 &  5.9\\\\\n\\end{tabular}\n",
            "text/plain": [
              "  Name            G   PA  AB  R  H   2B 3B HR RBI SB CS BB SO  BA    OBP  \n",
              "1 Tyler Austin    106 445 396 66 125 34 2  25 69  0  1  45  88 0.316 0.382\n",
              "2 Domingo Santana 122 484 419 57 132 29 0  17 70  2  1  57 101 0.315 0.399\n",
              "3 Hiroki Fukunaga 111 402 363 40 111 22 2   6 32  9  3  27  82 0.306 0.362\n",
              "4 Shingo Usami     61 164 152  7  46  8 0   3 17  0  0   9  38 0.303 0.337\n",
              "5 Elier Hernandez  56 240 221 34  65 11 0   8 30  0  1  15  58 0.294 0.346\n",
              "  SLG   OPS   TB  Win_Shares\n",
              "1 0.601 0.983 238 14.9      \n",
              "2 0.506 0.905 212 14.2      \n",
              "3 0.427 0.789 155  9.3      \n",
              "4 0.415 0.752  63  3.7      \n",
              "5 0.453 0.798 100  5.9      "
            ]
          },
          "metadata": {}
        }
      ]
    },
    {
      "cell_type": "markdown",
      "source": [
        "Now, I am going to do the same thing for the MLB hitters and compare them."
      ],
      "metadata": {
        "id": "i7tDY-DGzwSd"
      }
    },
    {
      "cell_type": "code",
      "source": [
        "# Sample data for the top 5 MLB hitters\n",
        "mlb_stats <- tribble(\n",
        "  ~Rk, ~Name, ~Pos, ~Team, ~G, ~PA, ~H, ~`2B`, ~`3B`, ~HR, ~RBI, ~SB, ~BB, ~SO, ~CS, ~HBP, ~BA, ~OBP, ~SLG, ~OPS,\n",
        "  1, \"B Witt Jr.\", \"SS\", \"KC\", 161, 636, 125, 211, 45, 11, 32, 109, 57, 106, 31, 12, 0.332, 0.389, 0.588, 0.977,\n",
        "  2, \"V Guerrero Jr.\", \"1B\", \"TOR\", 159, 616, 98, 199, 44, 1, 30, 103, 72, 96, 2, 2, 0.323, 0.396, 0.544, 0.940,\n",
        "  3, \"A Judge\", \"CF\", \"NYY\", 158, 559, 122, 180, 36, 1, 58, 144, 133, 171, 10, 0, 0.322, 0.458, 0.701, 1.159,\n",
        "  4, \"L Arraez\", \"1B\", \"SD\", 150, 637, 83, 200, 32, 3, 4, 46, 24, 29, 9, 3, 0.314, 0.346, 0.392, 0.738,\n",
        "  5, \"S Ohtani\", \"DH\", \"LAD\", 159, 636, 134, 197, 38, 7, 54, 130, 81, 162, 59, 4, 0.310, 0.390, 0.646, 1.036\n",
        ")\n",
        "mlb_stats"
      ],
      "metadata": {
        "colab": {
          "base_uri": "https://localhost:8080/",
          "height": 310
        },
        "id": "jlXAFyh-z0zg",
        "outputId": "35a0ed94-8696-4a59-f828-87d0cbbec3d7"
      },
      "execution_count": null,
      "outputs": [
        {
          "output_type": "display_data",
          "data": {
            "text/html": [
              "<table class=\"dataframe\">\n",
              "<caption>A tibble: 5 × 20</caption>\n",
              "<thead>\n",
              "\t<tr><th scope=col>Rk</th><th scope=col>Name</th><th scope=col>Pos</th><th scope=col>Team</th><th scope=col>G</th><th scope=col>PA</th><th scope=col>H</th><th scope=col>2B</th><th scope=col>3B</th><th scope=col>HR</th><th scope=col>RBI</th><th scope=col>SB</th><th scope=col>BB</th><th scope=col>SO</th><th scope=col>CS</th><th scope=col>HBP</th><th scope=col>BA</th><th scope=col>OBP</th><th scope=col>SLG</th><th scope=col>OPS</th></tr>\n",
              "\t<tr><th scope=col>&lt;dbl&gt;</th><th scope=col>&lt;chr&gt;</th><th scope=col>&lt;chr&gt;</th><th scope=col>&lt;chr&gt;</th><th scope=col>&lt;dbl&gt;</th><th scope=col>&lt;dbl&gt;</th><th scope=col>&lt;dbl&gt;</th><th scope=col>&lt;dbl&gt;</th><th scope=col>&lt;dbl&gt;</th><th scope=col>&lt;dbl&gt;</th><th scope=col>&lt;dbl&gt;</th><th scope=col>&lt;dbl&gt;</th><th scope=col>&lt;dbl&gt;</th><th scope=col>&lt;dbl&gt;</th><th scope=col>&lt;dbl&gt;</th><th scope=col>&lt;dbl&gt;</th><th scope=col>&lt;dbl&gt;</th><th scope=col>&lt;dbl&gt;</th><th scope=col>&lt;dbl&gt;</th><th scope=col>&lt;dbl&gt;</th></tr>\n",
              "</thead>\n",
              "<tbody>\n",
              "\t<tr><td>1</td><td>B Witt Jr.    </td><td>SS</td><td>KC </td><td>161</td><td>636</td><td>125</td><td>211</td><td>45</td><td>11</td><td>32</td><td>109</td><td> 57</td><td>106</td><td>31</td><td>12</td><td>0.332</td><td>0.389</td><td>0.588</td><td>0.977</td></tr>\n",
              "\t<tr><td>2</td><td>V Guerrero Jr.</td><td>1B</td><td>TOR</td><td>159</td><td>616</td><td> 98</td><td>199</td><td>44</td><td> 1</td><td>30</td><td>103</td><td> 72</td><td> 96</td><td> 2</td><td> 2</td><td>0.323</td><td>0.396</td><td>0.544</td><td>0.940</td></tr>\n",
              "\t<tr><td>3</td><td>A Judge       </td><td>CF</td><td>NYY</td><td>158</td><td>559</td><td>122</td><td>180</td><td>36</td><td> 1</td><td>58</td><td>144</td><td>133</td><td>171</td><td>10</td><td> 0</td><td>0.322</td><td>0.458</td><td>0.701</td><td>1.159</td></tr>\n",
              "\t<tr><td>4</td><td>L Arraez      </td><td>1B</td><td>SD </td><td>150</td><td>637</td><td> 83</td><td>200</td><td>32</td><td> 3</td><td> 4</td><td> 46</td><td> 24</td><td> 29</td><td> 9</td><td> 3</td><td>0.314</td><td>0.346</td><td>0.392</td><td>0.738</td></tr>\n",
              "\t<tr><td>5</td><td>S Ohtani      </td><td>DH</td><td>LAD</td><td>159</td><td>636</td><td>134</td><td>197</td><td>38</td><td> 7</td><td>54</td><td>130</td><td> 81</td><td>162</td><td>59</td><td> 4</td><td>0.310</td><td>0.390</td><td>0.646</td><td>1.036</td></tr>\n",
              "</tbody>\n",
              "</table>\n"
            ],
            "text/markdown": "\nA tibble: 5 × 20\n\n| Rk &lt;dbl&gt; | Name &lt;chr&gt; | Pos &lt;chr&gt; | Team &lt;chr&gt; | G &lt;dbl&gt; | PA &lt;dbl&gt; | H &lt;dbl&gt; | 2B &lt;dbl&gt; | 3B &lt;dbl&gt; | HR &lt;dbl&gt; | RBI &lt;dbl&gt; | SB &lt;dbl&gt; | BB &lt;dbl&gt; | SO &lt;dbl&gt; | CS &lt;dbl&gt; | HBP &lt;dbl&gt; | BA &lt;dbl&gt; | OBP &lt;dbl&gt; | SLG &lt;dbl&gt; | OPS &lt;dbl&gt; |\n|---|---|---|---|---|---|---|---|---|---|---|---|---|---|---|---|---|---|---|---|\n| 1 | B Witt Jr.     | SS | KC  | 161 | 636 | 125 | 211 | 45 | 11 | 32 | 109 |  57 | 106 | 31 | 12 | 0.332 | 0.389 | 0.588 | 0.977 |\n| 2 | V Guerrero Jr. | 1B | TOR | 159 | 616 |  98 | 199 | 44 |  1 | 30 | 103 |  72 |  96 |  2 |  2 | 0.323 | 0.396 | 0.544 | 0.940 |\n| 3 | A Judge        | CF | NYY | 158 | 559 | 122 | 180 | 36 |  1 | 58 | 144 | 133 | 171 | 10 |  0 | 0.322 | 0.458 | 0.701 | 1.159 |\n| 4 | L Arraez       | 1B | SD  | 150 | 637 |  83 | 200 | 32 |  3 |  4 |  46 |  24 |  29 |  9 |  3 | 0.314 | 0.346 | 0.392 | 0.738 |\n| 5 | S Ohtani       | DH | LAD | 159 | 636 | 134 | 197 | 38 |  7 | 54 | 130 |  81 | 162 | 59 |  4 | 0.310 | 0.390 | 0.646 | 1.036 |\n\n",
            "text/latex": "A tibble: 5 × 20\n\\begin{tabular}{llllllllllllllllllll}\n Rk & Name & Pos & Team & G & PA & H & 2B & 3B & HR & RBI & SB & BB & SO & CS & HBP & BA & OBP & SLG & OPS\\\\\n <dbl> & <chr> & <chr> & <chr> & <dbl> & <dbl> & <dbl> & <dbl> & <dbl> & <dbl> & <dbl> & <dbl> & <dbl> & <dbl> & <dbl> & <dbl> & <dbl> & <dbl> & <dbl> & <dbl>\\\\\n\\hline\n\t 1 & B Witt Jr.     & SS & KC  & 161 & 636 & 125 & 211 & 45 & 11 & 32 & 109 &  57 & 106 & 31 & 12 & 0.332 & 0.389 & 0.588 & 0.977\\\\\n\t 2 & V Guerrero Jr. & 1B & TOR & 159 & 616 &  98 & 199 & 44 &  1 & 30 & 103 &  72 &  96 &  2 &  2 & 0.323 & 0.396 & 0.544 & 0.940\\\\\n\t 3 & A Judge        & CF & NYY & 158 & 559 & 122 & 180 & 36 &  1 & 58 & 144 & 133 & 171 & 10 &  0 & 0.322 & 0.458 & 0.701 & 1.159\\\\\n\t 4 & L Arraez       & 1B & SD  & 150 & 637 &  83 & 200 & 32 &  3 &  4 &  46 &  24 &  29 &  9 &  3 & 0.314 & 0.346 & 0.392 & 0.738\\\\\n\t 5 & S Ohtani       & DH & LAD & 159 & 636 & 134 & 197 & 38 &  7 & 54 & 130 &  81 & 162 & 59 &  4 & 0.310 & 0.390 & 0.646 & 1.036\\\\\n\\end{tabular}\n",
            "text/plain": [
              "  Rk Name           Pos Team G   PA  H   2B  3B HR RBI SB  BB  SO  CS HBP BA   \n",
              "1 1  B Witt Jr.     SS  KC   161 636 125 211 45 11 32  109  57 106 31 12  0.332\n",
              "2 2  V Guerrero Jr. 1B  TOR  159 616  98 199 44  1 30  103  72  96  2  2  0.323\n",
              "3 3  A Judge        CF  NYY  158 559 122 180 36  1 58  144 133 171 10  0  0.322\n",
              "4 4  L Arraez       1B  SD   150 637  83 200 32  3  4   46  24  29  9  3  0.314\n",
              "5 5  S Ohtani       DH  LAD  159 636 134 197 38  7 54  130  81 162 59  4  0.310\n",
              "  OBP   SLG   OPS  \n",
              "1 0.389 0.588 0.977\n",
              "2 0.396 0.544 0.940\n",
              "3 0.458 0.701 1.159\n",
              "4 0.346 0.392 0.738\n",
              "5 0.390 0.646 1.036"
            ]
          },
          "metadata": {}
        }
      ]
    },
    {
      "cell_type": "code",
      "source": [
        "# Function to calculate Win Shares and round to one decimal place\n",
        "calculate_win_shares <- function(df) {\n",
        "  df <- df %>%\n",
        "    mutate(\n",
        "      Hits = H,\n",
        "      Singles = H - `2B` - `3B` - HR,\n",
        "      Walks = BB,\n",
        "      Outs = PA - H - BB - HBP,\n",
        "      Win_Shares = round(0.5 * (Singles / 6 + `2B` / 4 + `3B` / 3 + HR / 2 + Walks / 9 - Outs / 36), 1)\n",
        "    )\n",
        "  return(df)\n",
        "}\n",
        "\n",
        "# Calculate Win Shares for MLB hitters\n",
        "mlb_with_win_shares <- calculate_win_shares(mlb_stats)"
      ],
      "metadata": {
        "id": "9-txZIpv0AvD"
      },
      "execution_count": null,
      "outputs": []
    },
    {
      "cell_type": "code",
      "source": [
        "# View the data with calculated and rounded Win Shares\n",
        "mlb_with_win_shares %>%\n",
        "  select(Name, Pos, Team, G, PA, H, `2B`, `3B`, HR, RBI, SB, BB, SO, CS, HBP, BA, OBP, SLG, OPS, Win_Shares) %>%\n",
        "  head()"
      ],
      "metadata": {
        "colab": {
          "base_uri": "https://localhost:8080/",
          "height": 310
        },
        "id": "vtG57HNq0YCw",
        "outputId": "928fdf4a-6715-4f2e-efea-5af97818cebd"
      },
      "execution_count": null,
      "outputs": [
        {
          "output_type": "display_data",
          "data": {
            "text/html": [
              "<table class=\"dataframe\">\n",
              "<caption>A tibble: 5 × 20</caption>\n",
              "<thead>\n",
              "\t<tr><th scope=col>Name</th><th scope=col>Pos</th><th scope=col>Team</th><th scope=col>G</th><th scope=col>PA</th><th scope=col>H</th><th scope=col>2B</th><th scope=col>3B</th><th scope=col>HR</th><th scope=col>RBI</th><th scope=col>SB</th><th scope=col>BB</th><th scope=col>SO</th><th scope=col>CS</th><th scope=col>HBP</th><th scope=col>BA</th><th scope=col>OBP</th><th scope=col>SLG</th><th scope=col>OPS</th><th scope=col>Win_Shares</th></tr>\n",
              "\t<tr><th scope=col>&lt;chr&gt;</th><th scope=col>&lt;chr&gt;</th><th scope=col>&lt;chr&gt;</th><th scope=col>&lt;dbl&gt;</th><th scope=col>&lt;dbl&gt;</th><th scope=col>&lt;dbl&gt;</th><th scope=col>&lt;dbl&gt;</th><th scope=col>&lt;dbl&gt;</th><th scope=col>&lt;dbl&gt;</th><th scope=col>&lt;dbl&gt;</th><th scope=col>&lt;dbl&gt;</th><th scope=col>&lt;dbl&gt;</th><th scope=col>&lt;dbl&gt;</th><th scope=col>&lt;dbl&gt;</th><th scope=col>&lt;dbl&gt;</th><th scope=col>&lt;dbl&gt;</th><th scope=col>&lt;dbl&gt;</th><th scope=col>&lt;dbl&gt;</th><th scope=col>&lt;dbl&gt;</th><th scope=col>&lt;dbl&gt;</th></tr>\n",
              "</thead>\n",
              "<tbody>\n",
              "\t<tr><td>B Witt Jr.    </td><td>SS</td><td>KC </td><td>161</td><td>636</td><td>125</td><td>211</td><td>45</td><td>11</td><td>32</td><td>109</td><td> 57</td><td>106</td><td>31</td><td>12</td><td>0.332</td><td>0.389</td><td>0.588</td><td>0.977</td><td>21.8</td></tr>\n",
              "\t<tr><td>V Guerrero Jr.</td><td>1B</td><td>TOR</td><td>159</td><td>616</td><td> 98</td><td>199</td><td>44</td><td> 1</td><td>30</td><td>103</td><td> 72</td><td> 96</td><td> 2</td><td> 2</td><td>0.323</td><td>0.396</td><td>0.544</td><td>0.940</td><td>18.1</td></tr>\n",
              "\t<tr><td>A Judge       </td><td>CF</td><td>NYY</td><td>158</td><td>559</td><td>122</td><td>180</td><td>36</td><td> 1</td><td>58</td><td>144</td><td>133</td><td>171</td><td>10</td><td> 0</td><td>0.322</td><td>0.458</td><td>0.701</td><td>1.159</td><td>24.0</td></tr>\n",
              "\t<tr><td>L Arraez      </td><td>1B</td><td>SD </td><td>150</td><td>637</td><td> 83</td><td>200</td><td>32</td><td> 3</td><td> 4</td><td> 46</td><td> 24</td><td> 29</td><td> 9</td><td> 3</td><td>0.314</td><td>0.346</td><td>0.392</td><td>0.738</td><td>12.4</td></tr>\n",
              "\t<tr><td>S Ohtani      </td><td>DH</td><td>LAD</td><td>159</td><td>636</td><td>134</td><td>197</td><td>38</td><td> 7</td><td>54</td><td>130</td><td> 81</td><td>162</td><td>59</td><td> 4</td><td>0.310</td><td>0.390</td><td>0.646</td><td>1.036</td><td>22.4</td></tr>\n",
              "</tbody>\n",
              "</table>\n"
            ],
            "text/markdown": "\nA tibble: 5 × 20\n\n| Name &lt;chr&gt; | Pos &lt;chr&gt; | Team &lt;chr&gt; | G &lt;dbl&gt; | PA &lt;dbl&gt; | H &lt;dbl&gt; | 2B &lt;dbl&gt; | 3B &lt;dbl&gt; | HR &lt;dbl&gt; | RBI &lt;dbl&gt; | SB &lt;dbl&gt; | BB &lt;dbl&gt; | SO &lt;dbl&gt; | CS &lt;dbl&gt; | HBP &lt;dbl&gt; | BA &lt;dbl&gt; | OBP &lt;dbl&gt; | SLG &lt;dbl&gt; | OPS &lt;dbl&gt; | Win_Shares &lt;dbl&gt; |\n|---|---|---|---|---|---|---|---|---|---|---|---|---|---|---|---|---|---|---|---|\n| B Witt Jr.     | SS | KC  | 161 | 636 | 125 | 211 | 45 | 11 | 32 | 109 |  57 | 106 | 31 | 12 | 0.332 | 0.389 | 0.588 | 0.977 | 21.8 |\n| V Guerrero Jr. | 1B | TOR | 159 | 616 |  98 | 199 | 44 |  1 | 30 | 103 |  72 |  96 |  2 |  2 | 0.323 | 0.396 | 0.544 | 0.940 | 18.1 |\n| A Judge        | CF | NYY | 158 | 559 | 122 | 180 | 36 |  1 | 58 | 144 | 133 | 171 | 10 |  0 | 0.322 | 0.458 | 0.701 | 1.159 | 24.0 |\n| L Arraez       | 1B | SD  | 150 | 637 |  83 | 200 | 32 |  3 |  4 |  46 |  24 |  29 |  9 |  3 | 0.314 | 0.346 | 0.392 | 0.738 | 12.4 |\n| S Ohtani       | DH | LAD | 159 | 636 | 134 | 197 | 38 |  7 | 54 | 130 |  81 | 162 | 59 |  4 | 0.310 | 0.390 | 0.646 | 1.036 | 22.4 |\n\n",
            "text/latex": "A tibble: 5 × 20\n\\begin{tabular}{llllllllllllllllllll}\n Name & Pos & Team & G & PA & H & 2B & 3B & HR & RBI & SB & BB & SO & CS & HBP & BA & OBP & SLG & OPS & Win\\_Shares\\\\\n <chr> & <chr> & <chr> & <dbl> & <dbl> & <dbl> & <dbl> & <dbl> & <dbl> & <dbl> & <dbl> & <dbl> & <dbl> & <dbl> & <dbl> & <dbl> & <dbl> & <dbl> & <dbl> & <dbl>\\\\\n\\hline\n\t B Witt Jr.     & SS & KC  & 161 & 636 & 125 & 211 & 45 & 11 & 32 & 109 &  57 & 106 & 31 & 12 & 0.332 & 0.389 & 0.588 & 0.977 & 21.8\\\\\n\t V Guerrero Jr. & 1B & TOR & 159 & 616 &  98 & 199 & 44 &  1 & 30 & 103 &  72 &  96 &  2 &  2 & 0.323 & 0.396 & 0.544 & 0.940 & 18.1\\\\\n\t A Judge        & CF & NYY & 158 & 559 & 122 & 180 & 36 &  1 & 58 & 144 & 133 & 171 & 10 &  0 & 0.322 & 0.458 & 0.701 & 1.159 & 24.0\\\\\n\t L Arraez       & 1B & SD  & 150 & 637 &  83 & 200 & 32 &  3 &  4 &  46 &  24 &  29 &  9 &  3 & 0.314 & 0.346 & 0.392 & 0.738 & 12.4\\\\\n\t S Ohtani       & DH & LAD & 159 & 636 & 134 & 197 & 38 &  7 & 54 & 130 &  81 & 162 & 59 &  4 & 0.310 & 0.390 & 0.646 & 1.036 & 22.4\\\\\n\\end{tabular}\n",
            "text/plain": [
              "  Name           Pos Team G   PA  H   2B  3B HR RBI SB  BB  SO  CS HBP BA   \n",
              "1 B Witt Jr.     SS  KC   161 636 125 211 45 11 32  109  57 106 31 12  0.332\n",
              "2 V Guerrero Jr. 1B  TOR  159 616  98 199 44  1 30  103  72  96  2  2  0.323\n",
              "3 A Judge        CF  NYY  158 559 122 180 36  1 58  144 133 171 10  0  0.322\n",
              "4 L Arraez       1B  SD   150 637  83 200 32  3  4   46  24  29  9  3  0.314\n",
              "5 S Ohtani       DH  LAD  159 636 134 197 38  7 54  130  81 162 59  4  0.310\n",
              "  OBP   SLG   OPS   Win_Shares\n",
              "1 0.389 0.588 0.977 21.8      \n",
              "2 0.396 0.544 0.940 18.1      \n",
              "3 0.458 0.701 1.159 24.0      \n",
              "4 0.346 0.392 0.738 12.4      \n",
              "5 0.390 0.646 1.036 22.4      "
            ]
          },
          "metadata": {}
        }
      ]
    },
    {
      "cell_type": "markdown",
      "source": [
        "This is the MLB win shares and the NPB win shares put together in the same data table to show the comparisons in the leagues.\n"
      ],
      "metadata": {
        "id": "_7x3u-OSZWyI"
      }
    },
    {
      "cell_type": "code",
      "source": [
        "# Standardize the columns for merging and remove unnecessary columns\n",
        "npb_with_win_shares <- npb_with_win_shares %>%\n",
        "  select(Name, G, PA, H, `2B`, `3B`, HR, RBI, SB, CS, BB, SO, BA, OBP, SLG, OPS, Win_Shares) %>%\n",
        "  mutate(League = \"NPB\")\n",
        "\n",
        "mlb_with_win_shares <- mlb_with_win_shares %>%\n",
        "  select(Name, G, PA, H, `2B`, `3B`, HR, RBI, SB, CS, BB, SO, BA, OBP, SLG, OPS, Win_Shares) %>%\n",
        "  mutate(League = \"MLB\")\n",
        "\n",
        "combined_win_shares <- bind_rows(npb_with_win_shares, mlb_with_win_shares)\n",
        "\n",
        "# View the combined data with Win Shares\n",
        "combined_win_shares"
      ],
      "metadata": {
        "colab": {
          "base_uri": "https://localhost:8080/",
          "height": 553
        },
        "id": "cqpXi7jtZe6L",
        "outputId": "94a92229-279a-45b8-9871-bdd16cb432e8"
      },
      "execution_count": null,
      "outputs": [
        {
          "output_type": "display_data",
          "data": {
            "text/html": [
              "<table class=\"dataframe\">\n",
              "<caption>A tibble: 10 × 18</caption>\n",
              "<thead>\n",
              "\t<tr><th scope=col>Name</th><th scope=col>G</th><th scope=col>PA</th><th scope=col>H</th><th scope=col>2B</th><th scope=col>3B</th><th scope=col>HR</th><th scope=col>RBI</th><th scope=col>SB</th><th scope=col>CS</th><th scope=col>BB</th><th scope=col>SO</th><th scope=col>BA</th><th scope=col>OBP</th><th scope=col>SLG</th><th scope=col>OPS</th><th scope=col>Win_Shares</th><th scope=col>League</th></tr>\n",
              "\t<tr><th scope=col>&lt;chr&gt;</th><th scope=col>&lt;dbl&gt;</th><th scope=col>&lt;dbl&gt;</th><th scope=col>&lt;dbl&gt;</th><th scope=col>&lt;dbl&gt;</th><th scope=col>&lt;dbl&gt;</th><th scope=col>&lt;dbl&gt;</th><th scope=col>&lt;dbl&gt;</th><th scope=col>&lt;dbl&gt;</th><th scope=col>&lt;dbl&gt;</th><th scope=col>&lt;dbl&gt;</th><th scope=col>&lt;dbl&gt;</th><th scope=col>&lt;dbl&gt;</th><th scope=col>&lt;dbl&gt;</th><th scope=col>&lt;dbl&gt;</th><th scope=col>&lt;dbl&gt;</th><th scope=col>&lt;dbl&gt;</th><th scope=col>&lt;chr&gt;</th></tr>\n",
              "</thead>\n",
              "<tbody>\n",
              "\t<tr><td>Tyler Austin   </td><td>106</td><td>445</td><td>125</td><td> 34</td><td> 2</td><td>25</td><td>69</td><td>  0</td><td> 1</td><td> 45</td><td> 88</td><td>0.316</td><td>0.382</td><td>0.601</td><td>0.983</td><td>14.9</td><td>NPB</td></tr>\n",
              "\t<tr><td>Domingo Santana</td><td>122</td><td>484</td><td>132</td><td> 29</td><td> 0</td><td>17</td><td>70</td><td>  2</td><td> 1</td><td> 57</td><td>101</td><td>0.315</td><td>0.399</td><td>0.506</td><td>0.905</td><td>14.2</td><td>NPB</td></tr>\n",
              "\t<tr><td>Hiroki Fukunaga</td><td>111</td><td>402</td><td>111</td><td> 22</td><td> 2</td><td> 6</td><td>32</td><td>  9</td><td> 3</td><td> 27</td><td> 82</td><td>0.306</td><td>0.362</td><td>0.427</td><td>0.789</td><td> 9.3</td><td>NPB</td></tr>\n",
              "\t<tr><td>Shingo Usami   </td><td> 61</td><td>164</td><td> 46</td><td>  8</td><td> 0</td><td> 3</td><td>17</td><td>  0</td><td> 0</td><td>  9</td><td> 38</td><td>0.303</td><td>0.337</td><td>0.415</td><td>0.752</td><td> 3.7</td><td>NPB</td></tr>\n",
              "\t<tr><td>Elier Hernandez</td><td> 56</td><td>240</td><td> 65</td><td> 11</td><td> 0</td><td> 8</td><td>30</td><td>  0</td><td> 1</td><td> 15</td><td> 58</td><td>0.294</td><td>0.346</td><td>0.453</td><td>0.798</td><td> 5.9</td><td>NPB</td></tr>\n",
              "\t<tr><td>B Witt Jr.     </td><td>161</td><td>636</td><td>125</td><td>211</td><td>45</td><td>11</td><td>32</td><td>109</td><td>31</td><td> 57</td><td>106</td><td>0.332</td><td>0.389</td><td>0.588</td><td>0.977</td><td>21.8</td><td>MLB</td></tr>\n",
              "\t<tr><td>V Guerrero Jr. </td><td>159</td><td>616</td><td> 98</td><td>199</td><td>44</td><td> 1</td><td>30</td><td>103</td><td> 2</td><td> 72</td><td> 96</td><td>0.323</td><td>0.396</td><td>0.544</td><td>0.940</td><td>18.1</td><td>MLB</td></tr>\n",
              "\t<tr><td>A Judge        </td><td>158</td><td>559</td><td>122</td><td>180</td><td>36</td><td> 1</td><td>58</td><td>144</td><td>10</td><td>133</td><td>171</td><td>0.322</td><td>0.458</td><td>0.701</td><td>1.159</td><td>24.0</td><td>MLB</td></tr>\n",
              "\t<tr><td>L Arraez       </td><td>150</td><td>637</td><td> 83</td><td>200</td><td>32</td><td> 3</td><td> 4</td><td> 46</td><td> 9</td><td> 24</td><td> 29</td><td>0.314</td><td>0.346</td><td>0.392</td><td>0.738</td><td>12.4</td><td>MLB</td></tr>\n",
              "\t<tr><td>S Ohtani       </td><td>159</td><td>636</td><td>134</td><td>197</td><td>38</td><td> 7</td><td>54</td><td>130</td><td>59</td><td> 81</td><td>162</td><td>0.310</td><td>0.390</td><td>0.646</td><td>1.036</td><td>22.4</td><td>MLB</td></tr>\n",
              "</tbody>\n",
              "</table>\n"
            ],
            "text/markdown": "\nA tibble: 10 × 18\n\n| Name &lt;chr&gt; | G &lt;dbl&gt; | PA &lt;dbl&gt; | H &lt;dbl&gt; | 2B &lt;dbl&gt; | 3B &lt;dbl&gt; | HR &lt;dbl&gt; | RBI &lt;dbl&gt; | SB &lt;dbl&gt; | CS &lt;dbl&gt; | BB &lt;dbl&gt; | SO &lt;dbl&gt; | BA &lt;dbl&gt; | OBP &lt;dbl&gt; | SLG &lt;dbl&gt; | OPS &lt;dbl&gt; | Win_Shares &lt;dbl&gt; | League &lt;chr&gt; |\n|---|---|---|---|---|---|---|---|---|---|---|---|---|---|---|---|---|---|\n| Tyler Austin    | 106 | 445 | 125 |  34 |  2 | 25 | 69 |   0 |  1 |  45 |  88 | 0.316 | 0.382 | 0.601 | 0.983 | 14.9 | NPB |\n| Domingo Santana | 122 | 484 | 132 |  29 |  0 | 17 | 70 |   2 |  1 |  57 | 101 | 0.315 | 0.399 | 0.506 | 0.905 | 14.2 | NPB |\n| Hiroki Fukunaga | 111 | 402 | 111 |  22 |  2 |  6 | 32 |   9 |  3 |  27 |  82 | 0.306 | 0.362 | 0.427 | 0.789 |  9.3 | NPB |\n| Shingo Usami    |  61 | 164 |  46 |   8 |  0 |  3 | 17 |   0 |  0 |   9 |  38 | 0.303 | 0.337 | 0.415 | 0.752 |  3.7 | NPB |\n| Elier Hernandez |  56 | 240 |  65 |  11 |  0 |  8 | 30 |   0 |  1 |  15 |  58 | 0.294 | 0.346 | 0.453 | 0.798 |  5.9 | NPB |\n| B Witt Jr.      | 161 | 636 | 125 | 211 | 45 | 11 | 32 | 109 | 31 |  57 | 106 | 0.332 | 0.389 | 0.588 | 0.977 | 21.8 | MLB |\n| V Guerrero Jr.  | 159 | 616 |  98 | 199 | 44 |  1 | 30 | 103 |  2 |  72 |  96 | 0.323 | 0.396 | 0.544 | 0.940 | 18.1 | MLB |\n| A Judge         | 158 | 559 | 122 | 180 | 36 |  1 | 58 | 144 | 10 | 133 | 171 | 0.322 | 0.458 | 0.701 | 1.159 | 24.0 | MLB |\n| L Arraez        | 150 | 637 |  83 | 200 | 32 |  3 |  4 |  46 |  9 |  24 |  29 | 0.314 | 0.346 | 0.392 | 0.738 | 12.4 | MLB |\n| S Ohtani        | 159 | 636 | 134 | 197 | 38 |  7 | 54 | 130 | 59 |  81 | 162 | 0.310 | 0.390 | 0.646 | 1.036 | 22.4 | MLB |\n\n",
            "text/latex": "A tibble: 10 × 18\n\\begin{tabular}{llllllllllllllllll}\n Name & G & PA & H & 2B & 3B & HR & RBI & SB & CS & BB & SO & BA & OBP & SLG & OPS & Win\\_Shares & League\\\\\n <chr> & <dbl> & <dbl> & <dbl> & <dbl> & <dbl> & <dbl> & <dbl> & <dbl> & <dbl> & <dbl> & <dbl> & <dbl> & <dbl> & <dbl> & <dbl> & <dbl> & <chr>\\\\\n\\hline\n\t Tyler Austin    & 106 & 445 & 125 &  34 &  2 & 25 & 69 &   0 &  1 &  45 &  88 & 0.316 & 0.382 & 0.601 & 0.983 & 14.9 & NPB\\\\\n\t Domingo Santana & 122 & 484 & 132 &  29 &  0 & 17 & 70 &   2 &  1 &  57 & 101 & 0.315 & 0.399 & 0.506 & 0.905 & 14.2 & NPB\\\\\n\t Hiroki Fukunaga & 111 & 402 & 111 &  22 &  2 &  6 & 32 &   9 &  3 &  27 &  82 & 0.306 & 0.362 & 0.427 & 0.789 &  9.3 & NPB\\\\\n\t Shingo Usami    &  61 & 164 &  46 &   8 &  0 &  3 & 17 &   0 &  0 &   9 &  38 & 0.303 & 0.337 & 0.415 & 0.752 &  3.7 & NPB\\\\\n\t Elier Hernandez &  56 & 240 &  65 &  11 &  0 &  8 & 30 &   0 &  1 &  15 &  58 & 0.294 & 0.346 & 0.453 & 0.798 &  5.9 & NPB\\\\\n\t B Witt Jr.      & 161 & 636 & 125 & 211 & 45 & 11 & 32 & 109 & 31 &  57 & 106 & 0.332 & 0.389 & 0.588 & 0.977 & 21.8 & MLB\\\\\n\t V Guerrero Jr.  & 159 & 616 &  98 & 199 & 44 &  1 & 30 & 103 &  2 &  72 &  96 & 0.323 & 0.396 & 0.544 & 0.940 & 18.1 & MLB\\\\\n\t A Judge         & 158 & 559 & 122 & 180 & 36 &  1 & 58 & 144 & 10 & 133 & 171 & 0.322 & 0.458 & 0.701 & 1.159 & 24.0 & MLB\\\\\n\t L Arraez        & 150 & 637 &  83 & 200 & 32 &  3 &  4 &  46 &  9 &  24 &  29 & 0.314 & 0.346 & 0.392 & 0.738 & 12.4 & MLB\\\\\n\t S Ohtani        & 159 & 636 & 134 & 197 & 38 &  7 & 54 & 130 & 59 &  81 & 162 & 0.310 & 0.390 & 0.646 & 1.036 & 22.4 & MLB\\\\\n\\end{tabular}\n",
            "text/plain": [
              "   Name            G   PA  H   2B  3B HR RBI SB  CS BB  SO  BA    OBP   SLG  \n",
              "1  Tyler Austin    106 445 125  34  2 25 69    0  1  45  88 0.316 0.382 0.601\n",
              "2  Domingo Santana 122 484 132  29  0 17 70    2  1  57 101 0.315 0.399 0.506\n",
              "3  Hiroki Fukunaga 111 402 111  22  2  6 32    9  3  27  82 0.306 0.362 0.427\n",
              "4  Shingo Usami     61 164  46   8  0  3 17    0  0   9  38 0.303 0.337 0.415\n",
              "5  Elier Hernandez  56 240  65  11  0  8 30    0  1  15  58 0.294 0.346 0.453\n",
              "6  B Witt Jr.      161 636 125 211 45 11 32  109 31  57 106 0.332 0.389 0.588\n",
              "7  V Guerrero Jr.  159 616  98 199 44  1 30  103  2  72  96 0.323 0.396 0.544\n",
              "8  A Judge         158 559 122 180 36  1 58  144 10 133 171 0.322 0.458 0.701\n",
              "9  L Arraez        150 637  83 200 32  3  4   46  9  24  29 0.314 0.346 0.392\n",
              "10 S Ohtani        159 636 134 197 38  7 54  130 59  81 162 0.310 0.390 0.646\n",
              "   OPS   Win_Shares League\n",
              "1  0.983 14.9       NPB   \n",
              "2  0.905 14.2       NPB   \n",
              "3  0.789  9.3       NPB   \n",
              "4  0.752  3.7       NPB   \n",
              "5  0.798  5.9       NPB   \n",
              "6  0.977 21.8       MLB   \n",
              "7  0.940 18.1       MLB   \n",
              "8  1.159 24.0       MLB   \n",
              "9  0.738 12.4       MLB   \n",
              "10 1.036 22.4       MLB   "
            ]
          },
          "metadata": {}
        }
      ]
    },
    {
      "cell_type": "markdown",
      "source": [
        "According to Jim Albright of BaseballGuru.com, there is a conversion factor that can be used for BA, OBP, SLG, and other statistics. For example, he works on an article that projects one of the greatest japanese born players, Sadaharu Oh, that looks at his entire career and projects it to the MLB around a 160 game average, so most of the season. The conversion rates are shown below as a projection, and then you can see how many Win Shares are projected for that player in the MLB based on this past season."
      ],
      "metadata": {
        "id": "ZazQhuKrcxiB"
      }
    },
    {
      "cell_type": "code",
      "source": [
        "# Project NPB to MLB conversion factors\n",
        "conversion_factors <- list(\n",
        "  BA = 0.904918,\n",
        "  OBP = 0.903082,\n",
        "  SLG = 0.743477\n",
        ")\n",
        "\n",
        "# Function to project NPB stats to MLB equivalents\n",
        "project_npb_to_mlb <- function(df, conversion_factors) {\n",
        "  df <- df %>%\n",
        "    mutate(\n",
        "      Projected_BA = round(BA * conversion_factors$BA, 3),\n",
        "      Projected_OBP = round(OBP * conversion_factors$OBP, 3),\n",
        "      Projected_SLG = round(SLG * conversion_factors$SLG, 3),\n",
        "      Projected_OPS = round(Projected_OBP + Projected_SLG, 3)\n",
        "    )\n",
        "  return(df)\n",
        "}\n",
        "\n",
        "# Project NPB hitters' performance to MLB\n",
        "npb_projected_to_mlb <- project_npb_to_mlb(npb_with_win_shares, conversion_factors)\n",
        "npb_projected_to_mlb"
      ],
      "metadata": {
        "colab": {
          "base_uri": "https://localhost:8080/",
          "height": 362
        },
        "id": "xi6avinMdxTx",
        "outputId": "7a19f815-bf7b-4d6e-efb9-9dff0d7f2106"
      },
      "execution_count": null,
      "outputs": [
        {
          "output_type": "display_data",
          "data": {
            "text/html": [
              "<table class=\"dataframe\">\n",
              "<caption>A tibble: 5 × 22</caption>\n",
              "<thead>\n",
              "\t<tr><th scope=col>Name</th><th scope=col>G</th><th scope=col>PA</th><th scope=col>H</th><th scope=col>2B</th><th scope=col>3B</th><th scope=col>HR</th><th scope=col>RBI</th><th scope=col>SB</th><th scope=col>CS</th><th scope=col>⋯</th><th scope=col>BA</th><th scope=col>OBP</th><th scope=col>SLG</th><th scope=col>OPS</th><th scope=col>Win_Shares</th><th scope=col>League</th><th scope=col>Projected_BA</th><th scope=col>Projected_OBP</th><th scope=col>Projected_SLG</th><th scope=col>Projected_OPS</th></tr>\n",
              "\t<tr><th scope=col>&lt;chr&gt;</th><th scope=col>&lt;dbl&gt;</th><th scope=col>&lt;dbl&gt;</th><th scope=col>&lt;dbl&gt;</th><th scope=col>&lt;dbl&gt;</th><th scope=col>&lt;dbl&gt;</th><th scope=col>&lt;dbl&gt;</th><th scope=col>&lt;dbl&gt;</th><th scope=col>&lt;dbl&gt;</th><th scope=col>&lt;dbl&gt;</th><th scope=col>⋯</th><th scope=col>&lt;dbl&gt;</th><th scope=col>&lt;dbl&gt;</th><th scope=col>&lt;dbl&gt;</th><th scope=col>&lt;dbl&gt;</th><th scope=col>&lt;dbl&gt;</th><th scope=col>&lt;chr&gt;</th><th scope=col>&lt;dbl&gt;</th><th scope=col>&lt;dbl&gt;</th><th scope=col>&lt;dbl&gt;</th><th scope=col>&lt;dbl&gt;</th></tr>\n",
              "</thead>\n",
              "<tbody>\n",
              "\t<tr><td>Tyler Austin   </td><td>106</td><td>445</td><td>125</td><td>34</td><td>2</td><td>25</td><td>69</td><td>0</td><td>1</td><td>⋯</td><td>0.316</td><td>0.382</td><td>0.601</td><td>0.983</td><td>14.9</td><td>NPB</td><td>0.286</td><td>0.345</td><td>0.447</td><td>0.792</td></tr>\n",
              "\t<tr><td>Domingo Santana</td><td>122</td><td>484</td><td>132</td><td>29</td><td>0</td><td>17</td><td>70</td><td>2</td><td>1</td><td>⋯</td><td>0.315</td><td>0.399</td><td>0.506</td><td>0.905</td><td>14.2</td><td>NPB</td><td>0.285</td><td>0.360</td><td>0.376</td><td>0.736</td></tr>\n",
              "\t<tr><td>Hiroki Fukunaga</td><td>111</td><td>402</td><td>111</td><td>22</td><td>2</td><td> 6</td><td>32</td><td>9</td><td>3</td><td>⋯</td><td>0.306</td><td>0.362</td><td>0.427</td><td>0.789</td><td> 9.3</td><td>NPB</td><td>0.277</td><td>0.327</td><td>0.317</td><td>0.644</td></tr>\n",
              "\t<tr><td>Shingo Usami   </td><td> 61</td><td>164</td><td> 46</td><td> 8</td><td>0</td><td> 3</td><td>17</td><td>0</td><td>0</td><td>⋯</td><td>0.303</td><td>0.337</td><td>0.415</td><td>0.752</td><td> 3.7</td><td>NPB</td><td>0.274</td><td>0.304</td><td>0.309</td><td>0.613</td></tr>\n",
              "\t<tr><td>Elier Hernandez</td><td> 56</td><td>240</td><td> 65</td><td>11</td><td>0</td><td> 8</td><td>30</td><td>0</td><td>1</td><td>⋯</td><td>0.294</td><td>0.346</td><td>0.453</td><td>0.798</td><td> 5.9</td><td>NPB</td><td>0.266</td><td>0.312</td><td>0.337</td><td>0.649</td></tr>\n",
              "</tbody>\n",
              "</table>\n"
            ],
            "text/markdown": "\nA tibble: 5 × 22\n\n| Name &lt;chr&gt; | G &lt;dbl&gt; | PA &lt;dbl&gt; | H &lt;dbl&gt; | 2B &lt;dbl&gt; | 3B &lt;dbl&gt; | HR &lt;dbl&gt; | RBI &lt;dbl&gt; | SB &lt;dbl&gt; | CS &lt;dbl&gt; | ⋯ ⋯ | BA &lt;dbl&gt; | OBP &lt;dbl&gt; | SLG &lt;dbl&gt; | OPS &lt;dbl&gt; | Win_Shares &lt;dbl&gt; | League &lt;chr&gt; | Projected_BA &lt;dbl&gt; | Projected_OBP &lt;dbl&gt; | Projected_SLG &lt;dbl&gt; | Projected_OPS &lt;dbl&gt; |\n|---|---|---|---|---|---|---|---|---|---|---|---|---|---|---|---|---|---|---|---|---|\n| Tyler Austin    | 106 | 445 | 125 | 34 | 2 | 25 | 69 | 0 | 1 | ⋯ | 0.316 | 0.382 | 0.601 | 0.983 | 14.9 | NPB | 0.286 | 0.345 | 0.447 | 0.792 |\n| Domingo Santana | 122 | 484 | 132 | 29 | 0 | 17 | 70 | 2 | 1 | ⋯ | 0.315 | 0.399 | 0.506 | 0.905 | 14.2 | NPB | 0.285 | 0.360 | 0.376 | 0.736 |\n| Hiroki Fukunaga | 111 | 402 | 111 | 22 | 2 |  6 | 32 | 9 | 3 | ⋯ | 0.306 | 0.362 | 0.427 | 0.789 |  9.3 | NPB | 0.277 | 0.327 | 0.317 | 0.644 |\n| Shingo Usami    |  61 | 164 |  46 |  8 | 0 |  3 | 17 | 0 | 0 | ⋯ | 0.303 | 0.337 | 0.415 | 0.752 |  3.7 | NPB | 0.274 | 0.304 | 0.309 | 0.613 |\n| Elier Hernandez |  56 | 240 |  65 | 11 | 0 |  8 | 30 | 0 | 1 | ⋯ | 0.294 | 0.346 | 0.453 | 0.798 |  5.9 | NPB | 0.266 | 0.312 | 0.337 | 0.649 |\n\n",
            "text/latex": "A tibble: 5 × 22\n\\begin{tabular}{lllllllllllllllllllll}\n Name & G & PA & H & 2B & 3B & HR & RBI & SB & CS & ⋯ & BA & OBP & SLG & OPS & Win\\_Shares & League & Projected\\_BA & Projected\\_OBP & Projected\\_SLG & Projected\\_OPS\\\\\n <chr> & <dbl> & <dbl> & <dbl> & <dbl> & <dbl> & <dbl> & <dbl> & <dbl> & <dbl> & ⋯ & <dbl> & <dbl> & <dbl> & <dbl> & <dbl> & <chr> & <dbl> & <dbl> & <dbl> & <dbl>\\\\\n\\hline\n\t Tyler Austin    & 106 & 445 & 125 & 34 & 2 & 25 & 69 & 0 & 1 & ⋯ & 0.316 & 0.382 & 0.601 & 0.983 & 14.9 & NPB & 0.286 & 0.345 & 0.447 & 0.792\\\\\n\t Domingo Santana & 122 & 484 & 132 & 29 & 0 & 17 & 70 & 2 & 1 & ⋯ & 0.315 & 0.399 & 0.506 & 0.905 & 14.2 & NPB & 0.285 & 0.360 & 0.376 & 0.736\\\\\n\t Hiroki Fukunaga & 111 & 402 & 111 & 22 & 2 &  6 & 32 & 9 & 3 & ⋯ & 0.306 & 0.362 & 0.427 & 0.789 &  9.3 & NPB & 0.277 & 0.327 & 0.317 & 0.644\\\\\n\t Shingo Usami    &  61 & 164 &  46 &  8 & 0 &  3 & 17 & 0 & 0 & ⋯ & 0.303 & 0.337 & 0.415 & 0.752 &  3.7 & NPB & 0.274 & 0.304 & 0.309 & 0.613\\\\\n\t Elier Hernandez &  56 & 240 &  65 & 11 & 0 &  8 & 30 & 0 & 1 & ⋯ & 0.294 & 0.346 & 0.453 & 0.798 &  5.9 & NPB & 0.266 & 0.312 & 0.337 & 0.649\\\\\n\\end{tabular}\n",
            "text/plain": [
              "  Name            G   PA  H   2B 3B HR RBI SB CS ⋯ BA    OBP   SLG   OPS  \n",
              "1 Tyler Austin    106 445 125 34 2  25 69  0  1  ⋯ 0.316 0.382 0.601 0.983\n",
              "2 Domingo Santana 122 484 132 29 0  17 70  2  1  ⋯ 0.315 0.399 0.506 0.905\n",
              "3 Hiroki Fukunaga 111 402 111 22 2   6 32  9  3  ⋯ 0.306 0.362 0.427 0.789\n",
              "4 Shingo Usami     61 164  46  8 0   3 17  0  0  ⋯ 0.303 0.337 0.415 0.752\n",
              "5 Elier Hernandez  56 240  65 11 0   8 30  0  1  ⋯ 0.294 0.346 0.453 0.798\n",
              "  Win_Shares League Projected_BA Projected_OBP Projected_SLG Projected_OPS\n",
              "1 14.9       NPB    0.286        0.345         0.447         0.792        \n",
              "2 14.2       NPB    0.285        0.360         0.376         0.736        \n",
              "3  9.3       NPB    0.277        0.327         0.317         0.644        \n",
              "4  3.7       NPB    0.274        0.304         0.309         0.613        \n",
              "5  5.9       NPB    0.266        0.312         0.337         0.649        "
            ]
          },
          "metadata": {}
        }
      ]
    },
    {
      "cell_type": "markdown",
      "source": [
        "From the projections on Jim Albright's \"Fun with the Oh Projections\" article, for every 162 games Oh plays - the total amount played in the MLB - Oh averaged about 550 plate appearances, and with that average, we can calculate the amount of hits each player in the NPB would get in the MLB this past year."
      ],
      "metadata": {
        "id": "4zfMbRVDnjAf"
      }
    },
    {
      "cell_type": "code",
      "source": [
        "# Function to project NPB stats to MLB equivalents w/ABs and Hits\n",
        "project_npb_to_mlb <- function(df, conversion_factors) {\n",
        "  df <- df %>%\n",
        "    mutate(\n",
        "      Projected_BA = round(BA * conversion_factors$BA, 3),\n",
        "      Projected_OBP = round(OBP * conversion_factors$OBP, 3),\n",
        "      Projected_SLG = round(SLG * conversion_factors$SLG, 3),\n",
        "      Projected_OPS = round(Projected_OBP + Projected_SLG, 3),\n",
        "      Projected_AB = 550,\n",
        "      Projected_H = round(Projected_BA * Projected_AB)\n",
        "    )\n",
        "  return(df)\n",
        "}\n",
        "npb_projected_to_mlb <- project_npb_to_mlb(npb_with_win_shares, conversion_factors)\n",
        "npb_projected_to_mlb"
      ],
      "metadata": {
        "colab": {
          "base_uri": "https://localhost:8080/",
          "height": 362
        },
        "id": "YUqjQInbn4zl",
        "outputId": "9f07e2c6-9efb-4227-88ce-6dc99764e3f3"
      },
      "execution_count": null,
      "outputs": [
        {
          "output_type": "display_data",
          "data": {
            "text/html": [
              "<table class=\"dataframe\">\n",
              "<caption>A tibble: 5 × 24</caption>\n",
              "<thead>\n",
              "\t<tr><th scope=col>Name</th><th scope=col>G</th><th scope=col>PA</th><th scope=col>H</th><th scope=col>2B</th><th scope=col>3B</th><th scope=col>HR</th><th scope=col>RBI</th><th scope=col>SB</th><th scope=col>CS</th><th scope=col>⋯</th><th scope=col>SLG</th><th scope=col>OPS</th><th scope=col>Win_Shares</th><th scope=col>League</th><th scope=col>Projected_BA</th><th scope=col>Projected_OBP</th><th scope=col>Projected_SLG</th><th scope=col>Projected_OPS</th><th scope=col>Projected_AB</th><th scope=col>Projected_H</th></tr>\n",
              "\t<tr><th scope=col>&lt;chr&gt;</th><th scope=col>&lt;dbl&gt;</th><th scope=col>&lt;dbl&gt;</th><th scope=col>&lt;dbl&gt;</th><th scope=col>&lt;dbl&gt;</th><th scope=col>&lt;dbl&gt;</th><th scope=col>&lt;dbl&gt;</th><th scope=col>&lt;dbl&gt;</th><th scope=col>&lt;dbl&gt;</th><th scope=col>&lt;dbl&gt;</th><th scope=col>⋯</th><th scope=col>&lt;dbl&gt;</th><th scope=col>&lt;dbl&gt;</th><th scope=col>&lt;dbl&gt;</th><th scope=col>&lt;chr&gt;</th><th scope=col>&lt;dbl&gt;</th><th scope=col>&lt;dbl&gt;</th><th scope=col>&lt;dbl&gt;</th><th scope=col>&lt;dbl&gt;</th><th scope=col>&lt;dbl&gt;</th><th scope=col>&lt;dbl&gt;</th></tr>\n",
              "</thead>\n",
              "<tbody>\n",
              "\t<tr><td>Tyler Austin   </td><td>106</td><td>445</td><td>125</td><td>34</td><td>2</td><td>25</td><td>69</td><td>0</td><td>1</td><td>⋯</td><td>0.601</td><td>0.983</td><td>14.9</td><td>NPB</td><td>0.286</td><td>0.345</td><td>0.447</td><td>0.792</td><td>550</td><td>157</td></tr>\n",
              "\t<tr><td>Domingo Santana</td><td>122</td><td>484</td><td>132</td><td>29</td><td>0</td><td>17</td><td>70</td><td>2</td><td>1</td><td>⋯</td><td>0.506</td><td>0.905</td><td>14.2</td><td>NPB</td><td>0.285</td><td>0.360</td><td>0.376</td><td>0.736</td><td>550</td><td>157</td></tr>\n",
              "\t<tr><td>Hiroki Fukunaga</td><td>111</td><td>402</td><td>111</td><td>22</td><td>2</td><td> 6</td><td>32</td><td>9</td><td>3</td><td>⋯</td><td>0.427</td><td>0.789</td><td> 9.3</td><td>NPB</td><td>0.277</td><td>0.327</td><td>0.317</td><td>0.644</td><td>550</td><td>152</td></tr>\n",
              "\t<tr><td>Shingo Usami   </td><td> 61</td><td>164</td><td> 46</td><td> 8</td><td>0</td><td> 3</td><td>17</td><td>0</td><td>0</td><td>⋯</td><td>0.415</td><td>0.752</td><td> 3.7</td><td>NPB</td><td>0.274</td><td>0.304</td><td>0.309</td><td>0.613</td><td>550</td><td>151</td></tr>\n",
              "\t<tr><td>Elier Hernandez</td><td> 56</td><td>240</td><td> 65</td><td>11</td><td>0</td><td> 8</td><td>30</td><td>0</td><td>1</td><td>⋯</td><td>0.453</td><td>0.798</td><td> 5.9</td><td>NPB</td><td>0.266</td><td>0.312</td><td>0.337</td><td>0.649</td><td>550</td><td>146</td></tr>\n",
              "</tbody>\n",
              "</table>\n"
            ],
            "text/markdown": "\nA tibble: 5 × 24\n\n| Name &lt;chr&gt; | G &lt;dbl&gt; | PA &lt;dbl&gt; | H &lt;dbl&gt; | 2B &lt;dbl&gt; | 3B &lt;dbl&gt; | HR &lt;dbl&gt; | RBI &lt;dbl&gt; | SB &lt;dbl&gt; | CS &lt;dbl&gt; | ⋯ ⋯ | SLG &lt;dbl&gt; | OPS &lt;dbl&gt; | Win_Shares &lt;dbl&gt; | League &lt;chr&gt; | Projected_BA &lt;dbl&gt; | Projected_OBP &lt;dbl&gt; | Projected_SLG &lt;dbl&gt; | Projected_OPS &lt;dbl&gt; | Projected_AB &lt;dbl&gt; | Projected_H &lt;dbl&gt; |\n|---|---|---|---|---|---|---|---|---|---|---|---|---|---|---|---|---|---|---|---|---|\n| Tyler Austin    | 106 | 445 | 125 | 34 | 2 | 25 | 69 | 0 | 1 | ⋯ | 0.601 | 0.983 | 14.9 | NPB | 0.286 | 0.345 | 0.447 | 0.792 | 550 | 157 |\n| Domingo Santana | 122 | 484 | 132 | 29 | 0 | 17 | 70 | 2 | 1 | ⋯ | 0.506 | 0.905 | 14.2 | NPB | 0.285 | 0.360 | 0.376 | 0.736 | 550 | 157 |\n| Hiroki Fukunaga | 111 | 402 | 111 | 22 | 2 |  6 | 32 | 9 | 3 | ⋯ | 0.427 | 0.789 |  9.3 | NPB | 0.277 | 0.327 | 0.317 | 0.644 | 550 | 152 |\n| Shingo Usami    |  61 | 164 |  46 |  8 | 0 |  3 | 17 | 0 | 0 | ⋯ | 0.415 | 0.752 |  3.7 | NPB | 0.274 | 0.304 | 0.309 | 0.613 | 550 | 151 |\n| Elier Hernandez |  56 | 240 |  65 | 11 | 0 |  8 | 30 | 0 | 1 | ⋯ | 0.453 | 0.798 |  5.9 | NPB | 0.266 | 0.312 | 0.337 | 0.649 | 550 | 146 |\n\n",
            "text/latex": "A tibble: 5 × 24\n\\begin{tabular}{lllllllllllllllllllll}\n Name & G & PA & H & 2B & 3B & HR & RBI & SB & CS & ⋯ & SLG & OPS & Win\\_Shares & League & Projected\\_BA & Projected\\_OBP & Projected\\_SLG & Projected\\_OPS & Projected\\_AB & Projected\\_H\\\\\n <chr> & <dbl> & <dbl> & <dbl> & <dbl> & <dbl> & <dbl> & <dbl> & <dbl> & <dbl> & ⋯ & <dbl> & <dbl> & <dbl> & <chr> & <dbl> & <dbl> & <dbl> & <dbl> & <dbl> & <dbl>\\\\\n\\hline\n\t Tyler Austin    & 106 & 445 & 125 & 34 & 2 & 25 & 69 & 0 & 1 & ⋯ & 0.601 & 0.983 & 14.9 & NPB & 0.286 & 0.345 & 0.447 & 0.792 & 550 & 157\\\\\n\t Domingo Santana & 122 & 484 & 132 & 29 & 0 & 17 & 70 & 2 & 1 & ⋯ & 0.506 & 0.905 & 14.2 & NPB & 0.285 & 0.360 & 0.376 & 0.736 & 550 & 157\\\\\n\t Hiroki Fukunaga & 111 & 402 & 111 & 22 & 2 &  6 & 32 & 9 & 3 & ⋯ & 0.427 & 0.789 &  9.3 & NPB & 0.277 & 0.327 & 0.317 & 0.644 & 550 & 152\\\\\n\t Shingo Usami    &  61 & 164 &  46 &  8 & 0 &  3 & 17 & 0 & 0 & ⋯ & 0.415 & 0.752 &  3.7 & NPB & 0.274 & 0.304 & 0.309 & 0.613 & 550 & 151\\\\\n\t Elier Hernandez &  56 & 240 &  65 & 11 & 0 &  8 & 30 & 0 & 1 & ⋯ & 0.453 & 0.798 &  5.9 & NPB & 0.266 & 0.312 & 0.337 & 0.649 & 550 & 146\\\\\n\\end{tabular}\n",
            "text/plain": [
              "  Name            G   PA  H   2B 3B HR RBI SB CS ⋯ SLG   OPS   Win_Shares\n",
              "1 Tyler Austin    106 445 125 34 2  25 69  0  1  ⋯ 0.601 0.983 14.9      \n",
              "2 Domingo Santana 122 484 132 29 0  17 70  2  1  ⋯ 0.506 0.905 14.2      \n",
              "3 Hiroki Fukunaga 111 402 111 22 2   6 32  9  3  ⋯ 0.427 0.789  9.3      \n",
              "4 Shingo Usami     61 164  46  8 0   3 17  0  0  ⋯ 0.415 0.752  3.7      \n",
              "5 Elier Hernandez  56 240  65 11 0   8 30  0  1  ⋯ 0.453 0.798  5.9      \n",
              "  League Projected_BA Projected_OBP Projected_SLG Projected_OPS Projected_AB\n",
              "1 NPB    0.286        0.345         0.447         0.792         550         \n",
              "2 NPB    0.285        0.360         0.376         0.736         550         \n",
              "3 NPB    0.277        0.327         0.317         0.644         550         \n",
              "4 NPB    0.274        0.304         0.309         0.613         550         \n",
              "5 NPB    0.266        0.312         0.337         0.649         550         \n",
              "  Projected_H\n",
              "1 157        \n",
              "2 157        \n",
              "3 152        \n",
              "4 151        \n",
              "5 146        "
            ]
          },
          "metadata": {}
        }
      ]
    },
    {
      "cell_type": "markdown",
      "source": [
        "With these stats in mind, we are going to calculate the other values that contribute to Win Shares in the MLB to see how valuable these top hitters in the NPB could be in the MLB - excluding their actual peformance in the MLB before for some. We will calculate 2Bs, 3Bs, HRs, BBs, and then the Outs to get the Win Shares as a hitter."
      ],
      "metadata": {
        "id": "QHr64aEG5ULi"
      }
    },
    {
      "cell_type": "markdown",
      "source": [
        "We will use the fact that Oh's Projection for 2B's is around the same as they were in the NPB (when accounting for about 30-40 more games) which makes sense, so the 2Bs will stay the same. With the triples, Albright is taking into account the bigger fields and more opportunites to take the extra base, so for every season Oh has more than 1 triple, the 3Bs are multipled by about 2.71 times the amount in the NPB."
      ],
      "metadata": {
        "id": "VHCbmlhp7Age"
      }
    },
    {
      "cell_type": "code",
      "source": [
        "# Project NPB to MLB conversion factors\n",
        "conversion_factors <- list(\n",
        "  BA = 0.904918,\n",
        "  OBP = 0.903082,\n",
        "  SLG = 0.743477,\n",
        "  Triples = 2.71333\n",
        ")\n",
        "\n",
        "\n",
        "# Function to project NPB stats to MLB equivalents w/2Bs and 3Bs\n",
        "project_npb_to_mlb <- function(df, conversion_factors) {\n",
        "  df <- df %>%\n",
        "    mutate(\n",
        "      Projected_BA = round(BA * conversion_factors$BA, 3),\n",
        "      Projected_OBP = round(OBP * conversion_factors$OBP, 3),\n",
        "      Projected_SLG = round(SLG * conversion_factors$SLG, 3),\n",
        "      Projected_OPS = round(Projected_OBP + Projected_SLG, 3),\n",
        "      Projected_AB = 550,\n",
        "      Projected_H = round(Projected_BA * Projected_AB),\n",
        "      Projected_2B = `2B`,\n",
        "      Projected_3B = ifelse(`3B` == 0, 0, round(`3B` * conversion_factors$Triples))\n",
        "    )\n",
        "  return(df)\n",
        "}\n",
        "npb_projected_to_mlb <- project_npb_to_mlb(npb_with_win_shares, conversion_factors)\n",
        "npb_projected_to_mlb"
      ],
      "metadata": {
        "colab": {
          "base_uri": "https://localhost:8080/",
          "height": 362
        },
        "id": "DyR6qD1e53_G",
        "outputId": "44c02997-40ad-457a-dbfe-7ac7fe6ef0cd"
      },
      "execution_count": null,
      "outputs": [
        {
          "output_type": "display_data",
          "data": {
            "text/html": [
              "<table class=\"dataframe\">\n",
              "<caption>A tibble: 5 × 26</caption>\n",
              "<thead>\n",
              "\t<tr><th scope=col>Name</th><th scope=col>G</th><th scope=col>PA</th><th scope=col>H</th><th scope=col>2B</th><th scope=col>3B</th><th scope=col>HR</th><th scope=col>RBI</th><th scope=col>SB</th><th scope=col>CS</th><th scope=col>⋯</th><th scope=col>Win_Shares</th><th scope=col>League</th><th scope=col>Projected_BA</th><th scope=col>Projected_OBP</th><th scope=col>Projected_SLG</th><th scope=col>Projected_OPS</th><th scope=col>Projected_AB</th><th scope=col>Projected_H</th><th scope=col>Projected_2B</th><th scope=col>Projected_3B</th></tr>\n",
              "\t<tr><th scope=col>&lt;chr&gt;</th><th scope=col>&lt;dbl&gt;</th><th scope=col>&lt;dbl&gt;</th><th scope=col>&lt;dbl&gt;</th><th scope=col>&lt;dbl&gt;</th><th scope=col>&lt;dbl&gt;</th><th scope=col>&lt;dbl&gt;</th><th scope=col>&lt;dbl&gt;</th><th scope=col>&lt;dbl&gt;</th><th scope=col>&lt;dbl&gt;</th><th scope=col>⋯</th><th scope=col>&lt;dbl&gt;</th><th scope=col>&lt;chr&gt;</th><th scope=col>&lt;dbl&gt;</th><th scope=col>&lt;dbl&gt;</th><th scope=col>&lt;dbl&gt;</th><th scope=col>&lt;dbl&gt;</th><th scope=col>&lt;dbl&gt;</th><th scope=col>&lt;dbl&gt;</th><th scope=col>&lt;dbl&gt;</th><th scope=col>&lt;dbl&gt;</th></tr>\n",
              "</thead>\n",
              "<tbody>\n",
              "\t<tr><td>Tyler Austin   </td><td>106</td><td>445</td><td>125</td><td>34</td><td>2</td><td>25</td><td>69</td><td>0</td><td>1</td><td>⋯</td><td>14.9</td><td>NPB</td><td>0.286</td><td>0.345</td><td>0.447</td><td>0.792</td><td>550</td><td>157</td><td>34</td><td>5</td></tr>\n",
              "\t<tr><td>Domingo Santana</td><td>122</td><td>484</td><td>132</td><td>29</td><td>0</td><td>17</td><td>70</td><td>2</td><td>1</td><td>⋯</td><td>14.2</td><td>NPB</td><td>0.285</td><td>0.360</td><td>0.376</td><td>0.736</td><td>550</td><td>157</td><td>29</td><td>0</td></tr>\n",
              "\t<tr><td>Hiroki Fukunaga</td><td>111</td><td>402</td><td>111</td><td>22</td><td>2</td><td> 6</td><td>32</td><td>9</td><td>3</td><td>⋯</td><td> 9.3</td><td>NPB</td><td>0.277</td><td>0.327</td><td>0.317</td><td>0.644</td><td>550</td><td>152</td><td>22</td><td>5</td></tr>\n",
              "\t<tr><td>Shingo Usami   </td><td> 61</td><td>164</td><td> 46</td><td> 8</td><td>0</td><td> 3</td><td>17</td><td>0</td><td>0</td><td>⋯</td><td> 3.7</td><td>NPB</td><td>0.274</td><td>0.304</td><td>0.309</td><td>0.613</td><td>550</td><td>151</td><td> 8</td><td>0</td></tr>\n",
              "\t<tr><td>Elier Hernandez</td><td> 56</td><td>240</td><td> 65</td><td>11</td><td>0</td><td> 8</td><td>30</td><td>0</td><td>1</td><td>⋯</td><td> 5.9</td><td>NPB</td><td>0.266</td><td>0.312</td><td>0.337</td><td>0.649</td><td>550</td><td>146</td><td>11</td><td>0</td></tr>\n",
              "</tbody>\n",
              "</table>\n"
            ],
            "text/markdown": "\nA tibble: 5 × 26\n\n| Name &lt;chr&gt; | G &lt;dbl&gt; | PA &lt;dbl&gt; | H &lt;dbl&gt; | 2B &lt;dbl&gt; | 3B &lt;dbl&gt; | HR &lt;dbl&gt; | RBI &lt;dbl&gt; | SB &lt;dbl&gt; | CS &lt;dbl&gt; | ⋯ ⋯ | Win_Shares &lt;dbl&gt; | League &lt;chr&gt; | Projected_BA &lt;dbl&gt; | Projected_OBP &lt;dbl&gt; | Projected_SLG &lt;dbl&gt; | Projected_OPS &lt;dbl&gt; | Projected_AB &lt;dbl&gt; | Projected_H &lt;dbl&gt; | Projected_2B &lt;dbl&gt; | Projected_3B &lt;dbl&gt; |\n|---|---|---|---|---|---|---|---|---|---|---|---|---|---|---|---|---|---|---|---|---|\n| Tyler Austin    | 106 | 445 | 125 | 34 | 2 | 25 | 69 | 0 | 1 | ⋯ | 14.9 | NPB | 0.286 | 0.345 | 0.447 | 0.792 | 550 | 157 | 34 | 5 |\n| Domingo Santana | 122 | 484 | 132 | 29 | 0 | 17 | 70 | 2 | 1 | ⋯ | 14.2 | NPB | 0.285 | 0.360 | 0.376 | 0.736 | 550 | 157 | 29 | 0 |\n| Hiroki Fukunaga | 111 | 402 | 111 | 22 | 2 |  6 | 32 | 9 | 3 | ⋯ |  9.3 | NPB | 0.277 | 0.327 | 0.317 | 0.644 | 550 | 152 | 22 | 5 |\n| Shingo Usami    |  61 | 164 |  46 |  8 | 0 |  3 | 17 | 0 | 0 | ⋯ |  3.7 | NPB | 0.274 | 0.304 | 0.309 | 0.613 | 550 | 151 |  8 | 0 |\n| Elier Hernandez |  56 | 240 |  65 | 11 | 0 |  8 | 30 | 0 | 1 | ⋯ |  5.9 | NPB | 0.266 | 0.312 | 0.337 | 0.649 | 550 | 146 | 11 | 0 |\n\n",
            "text/latex": "A tibble: 5 × 26\n\\begin{tabular}{lllllllllllllllllllll}\n Name & G & PA & H & 2B & 3B & HR & RBI & SB & CS & ⋯ & Win\\_Shares & League & Projected\\_BA & Projected\\_OBP & Projected\\_SLG & Projected\\_OPS & Projected\\_AB & Projected\\_H & Projected\\_2B & Projected\\_3B\\\\\n <chr> & <dbl> & <dbl> & <dbl> & <dbl> & <dbl> & <dbl> & <dbl> & <dbl> & <dbl> & ⋯ & <dbl> & <chr> & <dbl> & <dbl> & <dbl> & <dbl> & <dbl> & <dbl> & <dbl> & <dbl>\\\\\n\\hline\n\t Tyler Austin    & 106 & 445 & 125 & 34 & 2 & 25 & 69 & 0 & 1 & ⋯ & 14.9 & NPB & 0.286 & 0.345 & 0.447 & 0.792 & 550 & 157 & 34 & 5\\\\\n\t Domingo Santana & 122 & 484 & 132 & 29 & 0 & 17 & 70 & 2 & 1 & ⋯ & 14.2 & NPB & 0.285 & 0.360 & 0.376 & 0.736 & 550 & 157 & 29 & 0\\\\\n\t Hiroki Fukunaga & 111 & 402 & 111 & 22 & 2 &  6 & 32 & 9 & 3 & ⋯ &  9.3 & NPB & 0.277 & 0.327 & 0.317 & 0.644 & 550 & 152 & 22 & 5\\\\\n\t Shingo Usami    &  61 & 164 &  46 &  8 & 0 &  3 & 17 & 0 & 0 & ⋯ &  3.7 & NPB & 0.274 & 0.304 & 0.309 & 0.613 & 550 & 151 &  8 & 0\\\\\n\t Elier Hernandez &  56 & 240 &  65 & 11 & 0 &  8 & 30 & 0 & 1 & ⋯ &  5.9 & NPB & 0.266 & 0.312 & 0.337 & 0.649 & 550 & 146 & 11 & 0\\\\\n\\end{tabular}\n",
            "text/plain": [
              "  Name            G   PA  H   2B 3B HR RBI SB CS ⋯ Win_Shares League\n",
              "1 Tyler Austin    106 445 125 34 2  25 69  0  1  ⋯ 14.9       NPB   \n",
              "2 Domingo Santana 122 484 132 29 0  17 70  2  1  ⋯ 14.2       NPB   \n",
              "3 Hiroki Fukunaga 111 402 111 22 2   6 32  9  3  ⋯  9.3       NPB   \n",
              "4 Shingo Usami     61 164  46  8 0   3 17  0  0  ⋯  3.7       NPB   \n",
              "5 Elier Hernandez  56 240  65 11 0   8 30  0  1  ⋯  5.9       NPB   \n",
              "  Projected_BA Projected_OBP Projected_SLG Projected_OPS Projected_AB\n",
              "1 0.286        0.345         0.447         0.792         550         \n",
              "2 0.285        0.360         0.376         0.736         550         \n",
              "3 0.277        0.327         0.317         0.644         550         \n",
              "4 0.274        0.304         0.309         0.613         550         \n",
              "5 0.266        0.312         0.337         0.649         550         \n",
              "  Projected_H Projected_2B Projected_3B\n",
              "1 157         34           5           \n",
              "2 157         29           0           \n",
              "3 152         22           5           \n",
              "4 151          8           0           \n",
              "5 146         11           0           "
            ]
          },
          "metadata": {}
        }
      ]
    },
    {
      "cell_type": "markdown",
      "source": [
        "With the BBs, they are the relatively the same from league to league with more outs projected, but Albright has a projection system that has walks to be about 1.148 times the NPB number for the MLB, so we will use that. For Singles and Home Runs, Singles are going to be found with the total hits minus the rest of the hits in the Win Shares. The Home Runs are hard to project depending on where the player goes, but according to Jim Albright in his Cooperstown argument for Oh, \"The overall totals are 23,817 matched at bats (for both NPB and MLB around the 70s and 80s), 575.0 major league home runs, and 1071.9 Central League homers. Thus, we will multiply Central League homers by 575.0/1071.9 or     0.536 to account for this difference.\" So Home Runs will be multipled by 0.536."
      ],
      "metadata": {
        "id": "9fPhjQ9A-4Ao"
      }
    },
    {
      "cell_type": "code",
      "source": [
        "# Project NPB to MLB conversion factors\n",
        "conversion_factors <- list(\n",
        "  BA = 0.904918,\n",
        "  OBP = 0.903082,\n",
        "  SLG = 0.743477,\n",
        "  Triples = 2.71333,\n",
        "  HR = 0.536431,\n",
        "  BB = 1.148\n",
        ")\n",
        "\n",
        "\n",
        "# Function to project NPB stats to MLB equivalents w/HRs and BBs\n",
        "project_npb_to_mlb <- function(df, conversion_factors) {\n",
        "  df <- df %>%\n",
        "    mutate(\n",
        "      Projected_BA = round(BA * conversion_factors$BA, 3),\n",
        "      Projected_OBP = round(OBP * conversion_factors$OBP, 3),\n",
        "      Projected_SLG = round(SLG * conversion_factors$SLG, 3),\n",
        "      Projected_OPS = round(Projected_OBP + Projected_SLG, 3),\n",
        "      Projected_AB = 550,\n",
        "      Projected_H = round(Projected_BA * Projected_AB),\n",
        "      Projected_2B = `2B`,\n",
        "      Projected_3B = ifelse(`3B` == 0, 0, round(`3B` * conversion_factors$Triples)),\n",
        "      Projected_HR = round(HR * conversion_factors$HR),\n",
        "      Projected_BB = round(BB * conversion_factors$BB)\n",
        "    )\n",
        "  return(df)\n",
        "}\n",
        "npb_projected_to_mlb <- project_npb_to_mlb(npb_with_win_shares, conversion_factors)\n",
        "npb_projected_to_mlb"
      ],
      "metadata": {
        "colab": {
          "base_uri": "https://localhost:8080/",
          "height": 362
        },
        "id": "iy3huYjeAtCM",
        "outputId": "4122745a-be2c-4b5e-9047-532a9f22044f"
      },
      "execution_count": null,
      "outputs": [
        {
          "output_type": "display_data",
          "data": {
            "text/html": [
              "<table class=\"dataframe\">\n",
              "<caption>A tibble: 5 × 28</caption>\n",
              "<thead>\n",
              "\t<tr><th scope=col>Name</th><th scope=col>G</th><th scope=col>PA</th><th scope=col>H</th><th scope=col>2B</th><th scope=col>3B</th><th scope=col>HR</th><th scope=col>RBI</th><th scope=col>SB</th><th scope=col>CS</th><th scope=col>⋯</th><th scope=col>Projected_BA</th><th scope=col>Projected_OBP</th><th scope=col>Projected_SLG</th><th scope=col>Projected_OPS</th><th scope=col>Projected_AB</th><th scope=col>Projected_H</th><th scope=col>Projected_2B</th><th scope=col>Projected_3B</th><th scope=col>Projected_HR</th><th scope=col>Projected_BB</th></tr>\n",
              "\t<tr><th scope=col>&lt;chr&gt;</th><th scope=col>&lt;dbl&gt;</th><th scope=col>&lt;dbl&gt;</th><th scope=col>&lt;dbl&gt;</th><th scope=col>&lt;dbl&gt;</th><th scope=col>&lt;dbl&gt;</th><th scope=col>&lt;dbl&gt;</th><th scope=col>&lt;dbl&gt;</th><th scope=col>&lt;dbl&gt;</th><th scope=col>&lt;dbl&gt;</th><th scope=col>⋯</th><th scope=col>&lt;dbl&gt;</th><th scope=col>&lt;dbl&gt;</th><th scope=col>&lt;dbl&gt;</th><th scope=col>&lt;dbl&gt;</th><th scope=col>&lt;dbl&gt;</th><th scope=col>&lt;dbl&gt;</th><th scope=col>&lt;dbl&gt;</th><th scope=col>&lt;dbl&gt;</th><th scope=col>&lt;dbl&gt;</th><th scope=col>&lt;dbl&gt;</th></tr>\n",
              "</thead>\n",
              "<tbody>\n",
              "\t<tr><td>Tyler Austin   </td><td>106</td><td>445</td><td>125</td><td>34</td><td>2</td><td>25</td><td>69</td><td>0</td><td>1</td><td>⋯</td><td>0.286</td><td>0.345</td><td>0.447</td><td>0.792</td><td>550</td><td>157</td><td>34</td><td>5</td><td>13</td><td>52</td></tr>\n",
              "\t<tr><td>Domingo Santana</td><td>122</td><td>484</td><td>132</td><td>29</td><td>0</td><td>17</td><td>70</td><td>2</td><td>1</td><td>⋯</td><td>0.285</td><td>0.360</td><td>0.376</td><td>0.736</td><td>550</td><td>157</td><td>29</td><td>0</td><td> 9</td><td>65</td></tr>\n",
              "\t<tr><td>Hiroki Fukunaga</td><td>111</td><td>402</td><td>111</td><td>22</td><td>2</td><td> 6</td><td>32</td><td>9</td><td>3</td><td>⋯</td><td>0.277</td><td>0.327</td><td>0.317</td><td>0.644</td><td>550</td><td>152</td><td>22</td><td>5</td><td> 3</td><td>31</td></tr>\n",
              "\t<tr><td>Shingo Usami   </td><td> 61</td><td>164</td><td> 46</td><td> 8</td><td>0</td><td> 3</td><td>17</td><td>0</td><td>0</td><td>⋯</td><td>0.274</td><td>0.304</td><td>0.309</td><td>0.613</td><td>550</td><td>151</td><td> 8</td><td>0</td><td> 2</td><td>10</td></tr>\n",
              "\t<tr><td>Elier Hernandez</td><td> 56</td><td>240</td><td> 65</td><td>11</td><td>0</td><td> 8</td><td>30</td><td>0</td><td>1</td><td>⋯</td><td>0.266</td><td>0.312</td><td>0.337</td><td>0.649</td><td>550</td><td>146</td><td>11</td><td>0</td><td> 4</td><td>17</td></tr>\n",
              "</tbody>\n",
              "</table>\n"
            ],
            "text/markdown": "\nA tibble: 5 × 28\n\n| Name &lt;chr&gt; | G &lt;dbl&gt; | PA &lt;dbl&gt; | H &lt;dbl&gt; | 2B &lt;dbl&gt; | 3B &lt;dbl&gt; | HR &lt;dbl&gt; | RBI &lt;dbl&gt; | SB &lt;dbl&gt; | CS &lt;dbl&gt; | ⋯ ⋯ | Projected_BA &lt;dbl&gt; | Projected_OBP &lt;dbl&gt; | Projected_SLG &lt;dbl&gt; | Projected_OPS &lt;dbl&gt; | Projected_AB &lt;dbl&gt; | Projected_H &lt;dbl&gt; | Projected_2B &lt;dbl&gt; | Projected_3B &lt;dbl&gt; | Projected_HR &lt;dbl&gt; | Projected_BB &lt;dbl&gt; |\n|---|---|---|---|---|---|---|---|---|---|---|---|---|---|---|---|---|---|---|---|---|\n| Tyler Austin    | 106 | 445 | 125 | 34 | 2 | 25 | 69 | 0 | 1 | ⋯ | 0.286 | 0.345 | 0.447 | 0.792 | 550 | 157 | 34 | 5 | 13 | 52 |\n| Domingo Santana | 122 | 484 | 132 | 29 | 0 | 17 | 70 | 2 | 1 | ⋯ | 0.285 | 0.360 | 0.376 | 0.736 | 550 | 157 | 29 | 0 |  9 | 65 |\n| Hiroki Fukunaga | 111 | 402 | 111 | 22 | 2 |  6 | 32 | 9 | 3 | ⋯ | 0.277 | 0.327 | 0.317 | 0.644 | 550 | 152 | 22 | 5 |  3 | 31 |\n| Shingo Usami    |  61 | 164 |  46 |  8 | 0 |  3 | 17 | 0 | 0 | ⋯ | 0.274 | 0.304 | 0.309 | 0.613 | 550 | 151 |  8 | 0 |  2 | 10 |\n| Elier Hernandez |  56 | 240 |  65 | 11 | 0 |  8 | 30 | 0 | 1 | ⋯ | 0.266 | 0.312 | 0.337 | 0.649 | 550 | 146 | 11 | 0 |  4 | 17 |\n\n",
            "text/latex": "A tibble: 5 × 28\n\\begin{tabular}{lllllllllllllllllllll}\n Name & G & PA & H & 2B & 3B & HR & RBI & SB & CS & ⋯ & Projected\\_BA & Projected\\_OBP & Projected\\_SLG & Projected\\_OPS & Projected\\_AB & Projected\\_H & Projected\\_2B & Projected\\_3B & Projected\\_HR & Projected\\_BB\\\\\n <chr> & <dbl> & <dbl> & <dbl> & <dbl> & <dbl> & <dbl> & <dbl> & <dbl> & <dbl> & ⋯ & <dbl> & <dbl> & <dbl> & <dbl> & <dbl> & <dbl> & <dbl> & <dbl> & <dbl> & <dbl>\\\\\n\\hline\n\t Tyler Austin    & 106 & 445 & 125 & 34 & 2 & 25 & 69 & 0 & 1 & ⋯ & 0.286 & 0.345 & 0.447 & 0.792 & 550 & 157 & 34 & 5 & 13 & 52\\\\\n\t Domingo Santana & 122 & 484 & 132 & 29 & 0 & 17 & 70 & 2 & 1 & ⋯ & 0.285 & 0.360 & 0.376 & 0.736 & 550 & 157 & 29 & 0 &  9 & 65\\\\\n\t Hiroki Fukunaga & 111 & 402 & 111 & 22 & 2 &  6 & 32 & 9 & 3 & ⋯ & 0.277 & 0.327 & 0.317 & 0.644 & 550 & 152 & 22 & 5 &  3 & 31\\\\\n\t Shingo Usami    &  61 & 164 &  46 &  8 & 0 &  3 & 17 & 0 & 0 & ⋯ & 0.274 & 0.304 & 0.309 & 0.613 & 550 & 151 &  8 & 0 &  2 & 10\\\\\n\t Elier Hernandez &  56 & 240 &  65 & 11 & 0 &  8 & 30 & 0 & 1 & ⋯ & 0.266 & 0.312 & 0.337 & 0.649 & 550 & 146 & 11 & 0 &  4 & 17\\\\\n\\end{tabular}\n",
            "text/plain": [
              "  Name            G   PA  H   2B 3B HR RBI SB CS ⋯ Projected_BA Projected_OBP\n",
              "1 Tyler Austin    106 445 125 34 2  25 69  0  1  ⋯ 0.286        0.345        \n",
              "2 Domingo Santana 122 484 132 29 0  17 70  2  1  ⋯ 0.285        0.360        \n",
              "3 Hiroki Fukunaga 111 402 111 22 2   6 32  9  3  ⋯ 0.277        0.327        \n",
              "4 Shingo Usami     61 164  46  8 0   3 17  0  0  ⋯ 0.274        0.304        \n",
              "5 Elier Hernandez  56 240  65 11 0   8 30  0  1  ⋯ 0.266        0.312        \n",
              "  Projected_SLG Projected_OPS Projected_AB Projected_H Projected_2B\n",
              "1 0.447         0.792         550          157         34          \n",
              "2 0.376         0.736         550          157         29          \n",
              "3 0.317         0.644         550          152         22          \n",
              "4 0.309         0.613         550          151          8          \n",
              "5 0.337         0.649         550          146         11          \n",
              "  Projected_3B Projected_HR Projected_BB\n",
              "1 5            13           52          \n",
              "2 0             9           65          \n",
              "3 5             3           31          \n",
              "4 0             2           10          \n",
              "5 0             4           17          "
            ]
          },
          "metadata": {}
        }
      ]
    },
    {
      "cell_type": "markdown",
      "source": [
        "Now, we can take the calculation of Win Shares Above and project what these players would produce in the MLB with these projected statistics."
      ],
      "metadata": {
        "id": "0HRhaWNvCeRA"
      }
    },
    {
      "cell_type": "code",
      "source": [
        "# Function to calculate Win Shares from NPB to MLB\n",
        "calculate_win_shares_to_mlb <- function(df2) {\n",
        "  df2 <- df2 %>%\n",
        "    mutate(\n",
        "      Hits = Projected_H,\n",
        "      Singles = Projected_H - Projected_2B - Projected_3B - Projected_HR,\n",
        "      Walks = Projected_BB,\n",
        "      Outs = Projected_AB - Projected_H,\n",
        "      Projected_Win_Shares = round(0.5 * (Singles / 6 + Projected_2B / 4 + Projected_3B / 3 + Projected_HR / 2 + Walks / 9 - Outs / 36), 1)\n",
        "    )\n",
        "    return(df2)\n",
        "}\n",
        "\n",
        "# Calculate Win Shares\n",
        "npb_with_win_shares_to_mlb <- calculate_win_shares_to_mlb(npb_projected_to_mlb)\n",
        "\n",
        "# View the data with calculated Win Shares\n",
        "npb_with_win_shares_to_mlb %>%\n",
        "  select(Name, Projected_AB, Projected_H, Projected_2B, Projected_3B, Projected_HR, Projected_BB, Projected_BA, Projected_OBP, Projected_SLG, Projected_OPS, Projected_Win_Shares) %>%\n",
        "  head()"
      ],
      "metadata": {
        "colab": {
          "base_uri": "https://localhost:8080/",
          "height": 362
        },
        "id": "lWwJ9RpvCfGW",
        "outputId": "4bd3e49a-7a2c-4be8-ebe0-025a4d5d1c28"
      },
      "execution_count": 30,
      "outputs": [
        {
          "output_type": "display_data",
          "data": {
            "text/html": [
              "<table class=\"dataframe\">\n",
              "<caption>A tibble: 5 × 12</caption>\n",
              "<thead>\n",
              "\t<tr><th scope=col>Name</th><th scope=col>Projected_AB</th><th scope=col>Projected_H</th><th scope=col>Projected_2B</th><th scope=col>Projected_3B</th><th scope=col>Projected_HR</th><th scope=col>Projected_BB</th><th scope=col>Projected_BA</th><th scope=col>Projected_OBP</th><th scope=col>Projected_SLG</th><th scope=col>Projected_OPS</th><th scope=col>Projected_Win_Shares</th></tr>\n",
              "\t<tr><th scope=col>&lt;chr&gt;</th><th scope=col>&lt;dbl&gt;</th><th scope=col>&lt;dbl&gt;</th><th scope=col>&lt;dbl&gt;</th><th scope=col>&lt;dbl&gt;</th><th scope=col>&lt;dbl&gt;</th><th scope=col>&lt;dbl&gt;</th><th scope=col>&lt;dbl&gt;</th><th scope=col>&lt;dbl&gt;</th><th scope=col>&lt;dbl&gt;</th><th scope=col>&lt;dbl&gt;</th><th scope=col>&lt;dbl&gt;</th></tr>\n",
              "</thead>\n",
              "<tbody>\n",
              "\t<tr><td>Tyler Austin   </td><td>550</td><td>157</td><td>34</td><td>5</td><td>13</td><td>52</td><td>0.286</td><td>0.345</td><td>0.447</td><td>0.792</td><td>14.5</td></tr>\n",
              "\t<tr><td>Domingo Santana</td><td>550</td><td>157</td><td>29</td><td>0</td><td> 9</td><td>65</td><td>0.285</td><td>0.360</td><td>0.376</td><td>0.736</td><td>13.9</td></tr>\n",
              "\t<tr><td>Hiroki Fukunaga</td><td>550</td><td>152</td><td>22</td><td>5</td><td> 3</td><td>31</td><td>0.277</td><td>0.327</td><td>0.317</td><td>0.644</td><td>10.7</td></tr>\n",
              "\t<tr><td>Shingo Usami   </td><td>550</td><td>151</td><td> 8</td><td>0</td><td> 2</td><td>10</td><td>0.274</td><td>0.304</td><td>0.309</td><td>0.613</td><td> 8.3</td></tr>\n",
              "\t<tr><td>Elier Hernandez</td><td>550</td><td>146</td><td>11</td><td>0</td><td> 4</td><td>17</td><td>0.266</td><td>0.312</td><td>0.337</td><td>0.649</td><td> 8.6</td></tr>\n",
              "</tbody>\n",
              "</table>\n"
            ],
            "text/markdown": "\nA tibble: 5 × 12\n\n| Name &lt;chr&gt; | Projected_AB &lt;dbl&gt; | Projected_H &lt;dbl&gt; | Projected_2B &lt;dbl&gt; | Projected_3B &lt;dbl&gt; | Projected_HR &lt;dbl&gt; | Projected_BB &lt;dbl&gt; | Projected_BA &lt;dbl&gt; | Projected_OBP &lt;dbl&gt; | Projected_SLG &lt;dbl&gt; | Projected_OPS &lt;dbl&gt; | Projected_Win_Shares &lt;dbl&gt; |\n|---|---|---|---|---|---|---|---|---|---|---|---|\n| Tyler Austin    | 550 | 157 | 34 | 5 | 13 | 52 | 0.286 | 0.345 | 0.447 | 0.792 | 14.5 |\n| Domingo Santana | 550 | 157 | 29 | 0 |  9 | 65 | 0.285 | 0.360 | 0.376 | 0.736 | 13.9 |\n| Hiroki Fukunaga | 550 | 152 | 22 | 5 |  3 | 31 | 0.277 | 0.327 | 0.317 | 0.644 | 10.7 |\n| Shingo Usami    | 550 | 151 |  8 | 0 |  2 | 10 | 0.274 | 0.304 | 0.309 | 0.613 |  8.3 |\n| Elier Hernandez | 550 | 146 | 11 | 0 |  4 | 17 | 0.266 | 0.312 | 0.337 | 0.649 |  8.6 |\n\n",
            "text/latex": "A tibble: 5 × 12\n\\begin{tabular}{llllllllllll}\n Name & Projected\\_AB & Projected\\_H & Projected\\_2B & Projected\\_3B & Projected\\_HR & Projected\\_BB & Projected\\_BA & Projected\\_OBP & Projected\\_SLG & Projected\\_OPS & Projected\\_Win\\_Shares\\\\\n <chr> & <dbl> & <dbl> & <dbl> & <dbl> & <dbl> & <dbl> & <dbl> & <dbl> & <dbl> & <dbl> & <dbl>\\\\\n\\hline\n\t Tyler Austin    & 550 & 157 & 34 & 5 & 13 & 52 & 0.286 & 0.345 & 0.447 & 0.792 & 14.5\\\\\n\t Domingo Santana & 550 & 157 & 29 & 0 &  9 & 65 & 0.285 & 0.360 & 0.376 & 0.736 & 13.9\\\\\n\t Hiroki Fukunaga & 550 & 152 & 22 & 5 &  3 & 31 & 0.277 & 0.327 & 0.317 & 0.644 & 10.7\\\\\n\t Shingo Usami    & 550 & 151 &  8 & 0 &  2 & 10 & 0.274 & 0.304 & 0.309 & 0.613 &  8.3\\\\\n\t Elier Hernandez & 550 & 146 & 11 & 0 &  4 & 17 & 0.266 & 0.312 & 0.337 & 0.649 &  8.6\\\\\n\\end{tabular}\n",
            "text/plain": [
              "  Name            Projected_AB Projected_H Projected_2B Projected_3B\n",
              "1 Tyler Austin    550          157         34           5           \n",
              "2 Domingo Santana 550          157         29           0           \n",
              "3 Hiroki Fukunaga 550          152         22           5           \n",
              "4 Shingo Usami    550          151          8           0           \n",
              "5 Elier Hernandez 550          146         11           0           \n",
              "  Projected_HR Projected_BB Projected_BA Projected_OBP Projected_SLG\n",
              "1 13           52           0.286        0.345         0.447        \n",
              "2  9           65           0.285        0.360         0.376        \n",
              "3  3           31           0.277        0.327         0.317        \n",
              "4  2           10           0.274        0.304         0.309        \n",
              "5  4           17           0.266        0.312         0.337        \n",
              "  Projected_OPS Projected_Win_Shares\n",
              "1 0.792         14.5                \n",
              "2 0.736         13.9                \n",
              "3 0.644         10.7                \n",
              "4 0.613          8.3                \n",
              "5 0.649          8.6                "
            ]
          },
          "metadata": {}
        }
      ]
    },
    {
      "cell_type": "markdown",
      "source": [
        "These Win Shares show the players value over an entire season in the MLB, while for some of these players, their season in the NPB were much lower so their Win Shares were only for that part of the season, kind of like how War is projected over a small part of the season and the whole season. Taking into account these projections, it is clear that while they were some of the best hitters in the NPB, in the MLB, it seems that the best hitters, like Tyler Austin, Domingo Santana, and Hiroki Fukunaga, would compare more to the production and WAR total of Luis Arraez rather than the best hitters in the league like Aaron Judge or Bobby Witt Jr."
      ],
      "metadata": {
        "id": "o_YoZ1JAEldg"
      }
    }
  ]
}